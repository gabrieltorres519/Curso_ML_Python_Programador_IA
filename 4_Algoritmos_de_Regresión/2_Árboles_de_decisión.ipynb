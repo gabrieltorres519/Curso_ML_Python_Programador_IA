{
 "cells": [
  {
   "cell_type": "markdown",
   "metadata": {},
   "source": [
    "# Dataset"
   ]
  },
  {
   "cell_type": "code",
   "execution_count": 12,
   "metadata": {},
   "outputs": [
    {
     "data": {
      "text/html": [
       "<div>\n",
       "<style scoped>\n",
       "    .dataframe tbody tr th:only-of-type {\n",
       "        vertical-align: middle;\n",
       "    }\n",
       "\n",
       "    .dataframe tbody tr th {\n",
       "        vertical-align: top;\n",
       "    }\n",
       "\n",
       "    .dataframe thead th {\n",
       "        text-align: right;\n",
       "    }\n",
       "</style>\n",
       "<table border=\"1\" class=\"dataframe\">\n",
       "  <thead>\n",
       "    <tr style=\"text-align: right;\">\n",
       "      <th></th>\n",
       "      <th>name</th>\n",
       "      <th>datetime</th>\n",
       "      <th>tempmax</th>\n",
       "      <th>tempmin</th>\n",
       "      <th>temp</th>\n",
       "      <th>feelslikemax</th>\n",
       "      <th>feelslikemin</th>\n",
       "      <th>feelslike</th>\n",
       "      <th>dew</th>\n",
       "      <th>humidity</th>\n",
       "      <th>...</th>\n",
       "      <th>solarenergy</th>\n",
       "      <th>uvindex</th>\n",
       "      <th>severerisk</th>\n",
       "      <th>sunrise</th>\n",
       "      <th>sunset</th>\n",
       "      <th>moonphase</th>\n",
       "      <th>conditions</th>\n",
       "      <th>description</th>\n",
       "      <th>icon</th>\n",
       "      <th>stations</th>\n",
       "    </tr>\n",
       "  </thead>\n",
       "  <tbody>\n",
       "    <tr>\n",
       "      <th>0</th>\n",
       "      <td>mexico city</td>\n",
       "      <td>2023-01-01</td>\n",
       "      <td>22.1</td>\n",
       "      <td>3.1</td>\n",
       "      <td>13.2</td>\n",
       "      <td>22.1</td>\n",
       "      <td>3.1</td>\n",
       "      <td>13.0</td>\n",
       "      <td>5.0</td>\n",
       "      <td>62.2</td>\n",
       "      <td>...</td>\n",
       "      <td>15.5</td>\n",
       "      <td>8.0</td>\n",
       "      <td>10.0</td>\n",
       "      <td>2023-01-01T07:10:42</td>\n",
       "      <td>2023-01-01T18:09:39</td>\n",
       "      <td>0.32</td>\n",
       "      <td>Partially cloudy</td>\n",
       "      <td>Partly cloudy throughout the day.</td>\n",
       "      <td>partly-cloudy-day</td>\n",
       "      <td>76726099999,76675399999,76679399999,7668009999...</td>\n",
       "    </tr>\n",
       "    <tr>\n",
       "      <th>1</th>\n",
       "      <td>mexico city</td>\n",
       "      <td>2023-01-02</td>\n",
       "      <td>26.1</td>\n",
       "      <td>2.0</td>\n",
       "      <td>14.3</td>\n",
       "      <td>26.1</td>\n",
       "      <td>1.7</td>\n",
       "      <td>14.3</td>\n",
       "      <td>5.2</td>\n",
       "      <td>57.6</td>\n",
       "      <td>...</td>\n",
       "      <td>18.8</td>\n",
       "      <td>8.0</td>\n",
       "      <td>10.0</td>\n",
       "      <td>2023-01-02T07:11:02</td>\n",
       "      <td>2023-01-02T18:10:16</td>\n",
       "      <td>0.36</td>\n",
       "      <td>Partially cloudy</td>\n",
       "      <td>Partly cloudy throughout the day.</td>\n",
       "      <td>partly-cloudy-day</td>\n",
       "      <td>76726099999,76675399999,76679399999,MMCB,76680...</td>\n",
       "    </tr>\n",
       "    <tr>\n",
       "      <th>2</th>\n",
       "      <td>mexico city</td>\n",
       "      <td>2023-01-03</td>\n",
       "      <td>28.1</td>\n",
       "      <td>4.1</td>\n",
       "      <td>15.6</td>\n",
       "      <td>27.1</td>\n",
       "      <td>4.1</td>\n",
       "      <td>15.5</td>\n",
       "      <td>5.6</td>\n",
       "      <td>54.8</td>\n",
       "      <td>...</td>\n",
       "      <td>18.7</td>\n",
       "      <td>8.0</td>\n",
       "      <td>10.0</td>\n",
       "      <td>2023-01-03T07:11:20</td>\n",
       "      <td>2023-01-03T18:10:53</td>\n",
       "      <td>0.39</td>\n",
       "      <td>Partially cloudy</td>\n",
       "      <td>Partly cloudy throughout the day.</td>\n",
       "      <td>partly-cloudy-day</td>\n",
       "      <td>76726099999,76675399999,76679399999,7668009999...</td>\n",
       "    </tr>\n",
       "    <tr>\n",
       "      <th>3</th>\n",
       "      <td>mexico city</td>\n",
       "      <td>2023-01-04</td>\n",
       "      <td>24.0</td>\n",
       "      <td>-0.9</td>\n",
       "      <td>13.5</td>\n",
       "      <td>24.0</td>\n",
       "      <td>-3.7</td>\n",
       "      <td>13.2</td>\n",
       "      <td>4.0</td>\n",
       "      <td>58.0</td>\n",
       "      <td>...</td>\n",
       "      <td>20.0</td>\n",
       "      <td>8.0</td>\n",
       "      <td>10.0</td>\n",
       "      <td>2023-01-04T07:11:37</td>\n",
       "      <td>2023-01-04T18:11:31</td>\n",
       "      <td>0.42</td>\n",
       "      <td>Clear</td>\n",
       "      <td>Clear conditions throughout the day.</td>\n",
       "      <td>clear-day</td>\n",
       "      <td>76726099999,76675399999,76679399999,MMCB,76680...</td>\n",
       "    </tr>\n",
       "    <tr>\n",
       "      <th>4</th>\n",
       "      <td>mexico city</td>\n",
       "      <td>2023-01-05</td>\n",
       "      <td>22.5</td>\n",
       "      <td>6.9</td>\n",
       "      <td>14.9</td>\n",
       "      <td>22.5</td>\n",
       "      <td>4.7</td>\n",
       "      <td>14.7</td>\n",
       "      <td>4.0</td>\n",
       "      <td>52.3</td>\n",
       "      <td>...</td>\n",
       "      <td>19.9</td>\n",
       "      <td>8.0</td>\n",
       "      <td>10.0</td>\n",
       "      <td>2023-01-05T07:11:53</td>\n",
       "      <td>2023-01-05T18:12:09</td>\n",
       "      <td>0.46</td>\n",
       "      <td>Clear</td>\n",
       "      <td>Clear conditions throughout the day.</td>\n",
       "      <td>clear-day</td>\n",
       "      <td>76726099999,76675399999,76679399999,7668009999...</td>\n",
       "    </tr>\n",
       "    <tr>\n",
       "      <th>...</th>\n",
       "      <td>...</td>\n",
       "      <td>...</td>\n",
       "      <td>...</td>\n",
       "      <td>...</td>\n",
       "      <td>...</td>\n",
       "      <td>...</td>\n",
       "      <td>...</td>\n",
       "      <td>...</td>\n",
       "      <td>...</td>\n",
       "      <td>...</td>\n",
       "      <td>...</td>\n",
       "      <td>...</td>\n",
       "      <td>...</td>\n",
       "      <td>...</td>\n",
       "      <td>...</td>\n",
       "      <td>...</td>\n",
       "      <td>...</td>\n",
       "      <td>...</td>\n",
       "      <td>...</td>\n",
       "      <td>...</td>\n",
       "      <td>...</td>\n",
       "    </tr>\n",
       "    <tr>\n",
       "      <th>384</th>\n",
       "      <td>mexico city</td>\n",
       "      <td>2024-01-20</td>\n",
       "      <td>21.5</td>\n",
       "      <td>4.7</td>\n",
       "      <td>13.1</td>\n",
       "      <td>0.0</td>\n",
       "      <td>0.0</td>\n",
       "      <td>3.9</td>\n",
       "      <td>1.5</td>\n",
       "      <td>50.6</td>\n",
       "      <td>...</td>\n",
       "      <td>NaN</td>\n",
       "      <td>NaN</td>\n",
       "      <td>NaN</td>\n",
       "      <td>2024-01-20T07:13:30</td>\n",
       "      <td>2024-01-20T18:21:43</td>\n",
       "      <td>0.32</td>\n",
       "      <td>Partially cloudy</td>\n",
       "      <td>NaN</td>\n",
       "      <td>partly-cloudy-day</td>\n",
       "      <td>NaN</td>\n",
       "    </tr>\n",
       "    <tr>\n",
       "      <th>385</th>\n",
       "      <td>mexico city</td>\n",
       "      <td>2024-01-21</td>\n",
       "      <td>21.9</td>\n",
       "      <td>4.4</td>\n",
       "      <td>13.5</td>\n",
       "      <td>0.0</td>\n",
       "      <td>0.0</td>\n",
       "      <td>3.5</td>\n",
       "      <td>1.2</td>\n",
       "      <td>48.4</td>\n",
       "      <td>...</td>\n",
       "      <td>NaN</td>\n",
       "      <td>NaN</td>\n",
       "      <td>NaN</td>\n",
       "      <td>2024-01-21T07:13:27</td>\n",
       "      <td>2024-01-21T18:22:22</td>\n",
       "      <td>0.36</td>\n",
       "      <td>Partially cloudy</td>\n",
       "      <td>NaN</td>\n",
       "      <td>partly-cloudy-day</td>\n",
       "      <td>NaN</td>\n",
       "    </tr>\n",
       "    <tr>\n",
       "      <th>386</th>\n",
       "      <td>mexico city</td>\n",
       "      <td>2024-01-22</td>\n",
       "      <td>22.5</td>\n",
       "      <td>3.7</td>\n",
       "      <td>13.7</td>\n",
       "      <td>0.0</td>\n",
       "      <td>0.0</td>\n",
       "      <td>2.8</td>\n",
       "      <td>1.6</td>\n",
       "      <td>48.5</td>\n",
       "      <td>...</td>\n",
       "      <td>NaN</td>\n",
       "      <td>NaN</td>\n",
       "      <td>NaN</td>\n",
       "      <td>2024-01-22T07:13:22</td>\n",
       "      <td>2024-01-22T18:23:00</td>\n",
       "      <td>0.39</td>\n",
       "      <td>Partially cloudy</td>\n",
       "      <td>NaN</td>\n",
       "      <td>partly-cloudy-day</td>\n",
       "      <td>NaN</td>\n",
       "    </tr>\n",
       "    <tr>\n",
       "      <th>387</th>\n",
       "      <td>mexico city</td>\n",
       "      <td>2024-01-23</td>\n",
       "      <td>22.3</td>\n",
       "      <td>3.5</td>\n",
       "      <td>13.7</td>\n",
       "      <td>0.0</td>\n",
       "      <td>0.0</td>\n",
       "      <td>26.3</td>\n",
       "      <td>2.0</td>\n",
       "      <td>50.8</td>\n",
       "      <td>...</td>\n",
       "      <td>NaN</td>\n",
       "      <td>NaN</td>\n",
       "      <td>NaN</td>\n",
       "      <td>2024-01-23T07:13:16</td>\n",
       "      <td>2024-01-23T18:23:38</td>\n",
       "      <td>0.43</td>\n",
       "      <td>Partially cloudy</td>\n",
       "      <td>NaN</td>\n",
       "      <td>partly-cloudy-day</td>\n",
       "      <td>NaN</td>\n",
       "    </tr>\n",
       "    <tr>\n",
       "      <th>388</th>\n",
       "      <td>mexico city</td>\n",
       "      <td>2024-01-24</td>\n",
       "      <td>22.4</td>\n",
       "      <td>4.2</td>\n",
       "      <td>13.9</td>\n",
       "      <td>0.0</td>\n",
       "      <td>0.0</td>\n",
       "      <td>4.5</td>\n",
       "      <td>2.8</td>\n",
       "      <td>51.9</td>\n",
       "      <td>...</td>\n",
       "      <td>NaN</td>\n",
       "      <td>NaN</td>\n",
       "      <td>NaN</td>\n",
       "      <td>2024-01-24T07:13:09</td>\n",
       "      <td>2024-01-24T18:24:15</td>\n",
       "      <td>0.47</td>\n",
       "      <td>Partially cloudy</td>\n",
       "      <td>NaN</td>\n",
       "      <td>partly-cloudy-day</td>\n",
       "      <td>NaN</td>\n",
       "    </tr>\n",
       "  </tbody>\n",
       "</table>\n",
       "<p>389 rows × 33 columns</p>\n",
       "</div>"
      ],
      "text/plain": [
       "            name    datetime  tempmax  tempmin  temp  feelslikemax  \\\n",
       "0    mexico city  2023-01-01     22.1      3.1  13.2          22.1   \n",
       "1    mexico city  2023-01-02     26.1      2.0  14.3          26.1   \n",
       "2    mexico city  2023-01-03     28.1      4.1  15.6          27.1   \n",
       "3    mexico city  2023-01-04     24.0     -0.9  13.5          24.0   \n",
       "4    mexico city  2023-01-05     22.5      6.9  14.9          22.5   \n",
       "..           ...         ...      ...      ...   ...           ...   \n",
       "384  mexico city  2024-01-20     21.5      4.7  13.1           0.0   \n",
       "385  mexico city  2024-01-21     21.9      4.4  13.5           0.0   \n",
       "386  mexico city  2024-01-22     22.5      3.7  13.7           0.0   \n",
       "387  mexico city  2024-01-23     22.3      3.5  13.7           0.0   \n",
       "388  mexico city  2024-01-24     22.4      4.2  13.9           0.0   \n",
       "\n",
       "     feelslikemin  feelslike  dew  humidity  ...  solarenergy  uvindex  \\\n",
       "0             3.1       13.0  5.0      62.2  ...         15.5      8.0   \n",
       "1             1.7       14.3  5.2      57.6  ...         18.8      8.0   \n",
       "2             4.1       15.5  5.6      54.8  ...         18.7      8.0   \n",
       "3            -3.7       13.2  4.0      58.0  ...         20.0      8.0   \n",
       "4             4.7       14.7  4.0      52.3  ...         19.9      8.0   \n",
       "..            ...        ...  ...       ...  ...          ...      ...   \n",
       "384           0.0        3.9  1.5      50.6  ...          NaN      NaN   \n",
       "385           0.0        3.5  1.2      48.4  ...          NaN      NaN   \n",
       "386           0.0        2.8  1.6      48.5  ...          NaN      NaN   \n",
       "387           0.0       26.3  2.0      50.8  ...          NaN      NaN   \n",
       "388           0.0        4.5  2.8      51.9  ...          NaN      NaN   \n",
       "\n",
       "     severerisk              sunrise               sunset  moonphase  \\\n",
       "0          10.0  2023-01-01T07:10:42  2023-01-01T18:09:39       0.32   \n",
       "1          10.0  2023-01-02T07:11:02  2023-01-02T18:10:16       0.36   \n",
       "2          10.0  2023-01-03T07:11:20  2023-01-03T18:10:53       0.39   \n",
       "3          10.0  2023-01-04T07:11:37  2023-01-04T18:11:31       0.42   \n",
       "4          10.0  2023-01-05T07:11:53  2023-01-05T18:12:09       0.46   \n",
       "..          ...                  ...                  ...        ...   \n",
       "384         NaN  2024-01-20T07:13:30  2024-01-20T18:21:43       0.32   \n",
       "385         NaN  2024-01-21T07:13:27  2024-01-21T18:22:22       0.36   \n",
       "386         NaN  2024-01-22T07:13:22  2024-01-22T18:23:00       0.39   \n",
       "387         NaN  2024-01-23T07:13:16  2024-01-23T18:23:38       0.43   \n",
       "388         NaN  2024-01-24T07:13:09  2024-01-24T18:24:15       0.47   \n",
       "\n",
       "           conditions                           description  \\\n",
       "0    Partially cloudy     Partly cloudy throughout the day.   \n",
       "1    Partially cloudy     Partly cloudy throughout the day.   \n",
       "2    Partially cloudy     Partly cloudy throughout the day.   \n",
       "3               Clear  Clear conditions throughout the day.   \n",
       "4               Clear  Clear conditions throughout the day.   \n",
       "..                ...                                   ...   \n",
       "384  Partially cloudy                                   NaN   \n",
       "385  Partially cloudy                                   NaN   \n",
       "386  Partially cloudy                                   NaN   \n",
       "387  Partially cloudy                                   NaN   \n",
       "388  Partially cloudy                                   NaN   \n",
       "\n",
       "                  icon                                           stations  \n",
       "0    partly-cloudy-day  76726099999,76675399999,76679399999,7668009999...  \n",
       "1    partly-cloudy-day  76726099999,76675399999,76679399999,MMCB,76680...  \n",
       "2    partly-cloudy-day  76726099999,76675399999,76679399999,7668009999...  \n",
       "3            clear-day  76726099999,76675399999,76679399999,MMCB,76680...  \n",
       "4            clear-day  76726099999,76675399999,76679399999,7668009999...  \n",
       "..                 ...                                                ...  \n",
       "384  partly-cloudy-day                                                NaN  \n",
       "385  partly-cloudy-day                                                NaN  \n",
       "386  partly-cloudy-day                                                NaN  \n",
       "387  partly-cloudy-day                                                NaN  \n",
       "388  partly-cloudy-day                                                NaN  \n",
       "\n",
       "[389 rows x 33 columns]"
      ]
     },
     "execution_count": 12,
     "metadata": {},
     "output_type": "execute_result"
    }
   ],
   "source": [
    "import pandas as pd \n",
    "weather = pd.read_csv(\"mexico city 2023-01-01 to 2024-01-24.csv\")\n",
    "weather"
   ]
  },
  {
   "cell_type": "code",
   "execution_count": 13,
   "metadata": {},
   "outputs": [
    {
     "data": {
      "text/html": [
       "<div>\n",
       "<style scoped>\n",
       "    .dataframe tbody tr th:only-of-type {\n",
       "        vertical-align: middle;\n",
       "    }\n",
       "\n",
       "    .dataframe tbody tr th {\n",
       "        vertical-align: top;\n",
       "    }\n",
       "\n",
       "    .dataframe thead th {\n",
       "        text-align: right;\n",
       "    }\n",
       "</style>\n",
       "<table border=\"1\" class=\"dataframe\">\n",
       "  <thead>\n",
       "    <tr style=\"text-align: right;\">\n",
       "      <th></th>\n",
       "      <th>datetime</th>\n",
       "      <th>temp</th>\n",
       "    </tr>\n",
       "  </thead>\n",
       "  <tbody>\n",
       "    <tr>\n",
       "      <th>0</th>\n",
       "      <td>2023-01-01</td>\n",
       "      <td>13.2</td>\n",
       "    </tr>\n",
       "    <tr>\n",
       "      <th>1</th>\n",
       "      <td>2023-01-02</td>\n",
       "      <td>14.3</td>\n",
       "    </tr>\n",
       "    <tr>\n",
       "      <th>2</th>\n",
       "      <td>2023-01-03</td>\n",
       "      <td>15.6</td>\n",
       "    </tr>\n",
       "    <tr>\n",
       "      <th>3</th>\n",
       "      <td>2023-01-04</td>\n",
       "      <td>13.5</td>\n",
       "    </tr>\n",
       "    <tr>\n",
       "      <th>4</th>\n",
       "      <td>2023-01-05</td>\n",
       "      <td>14.9</td>\n",
       "    </tr>\n",
       "    <tr>\n",
       "      <th>...</th>\n",
       "      <td>...</td>\n",
       "      <td>...</td>\n",
       "    </tr>\n",
       "    <tr>\n",
       "      <th>384</th>\n",
       "      <td>2024-01-20</td>\n",
       "      <td>13.1</td>\n",
       "    </tr>\n",
       "    <tr>\n",
       "      <th>385</th>\n",
       "      <td>2024-01-21</td>\n",
       "      <td>13.5</td>\n",
       "    </tr>\n",
       "    <tr>\n",
       "      <th>386</th>\n",
       "      <td>2024-01-22</td>\n",
       "      <td>13.7</td>\n",
       "    </tr>\n",
       "    <tr>\n",
       "      <th>387</th>\n",
       "      <td>2024-01-23</td>\n",
       "      <td>13.7</td>\n",
       "    </tr>\n",
       "    <tr>\n",
       "      <th>388</th>\n",
       "      <td>2024-01-24</td>\n",
       "      <td>13.9</td>\n",
       "    </tr>\n",
       "  </tbody>\n",
       "</table>\n",
       "<p>389 rows × 2 columns</p>\n",
       "</div>"
      ],
      "text/plain": [
       "       datetime  temp\n",
       "0    2023-01-01  13.2\n",
       "1    2023-01-02  14.3\n",
       "2    2023-01-03  15.6\n",
       "3    2023-01-04  13.5\n",
       "4    2023-01-05  14.9\n",
       "..          ...   ...\n",
       "384  2024-01-20  13.1\n",
       "385  2024-01-21  13.5\n",
       "386  2024-01-22  13.7\n",
       "387  2024-01-23  13.7\n",
       "388  2024-01-24  13.9\n",
       "\n",
       "[389 rows x 2 columns]"
      ]
     },
     "execution_count": 13,
     "metadata": {},
     "output_type": "execute_result"
    }
   ],
   "source": [
    "weather_filtered = weather[['datetime', 'temp']]\n",
    "weather_filtered"
   ]
  },
  {
   "cell_type": "code",
   "execution_count": 14,
   "metadata": {},
   "outputs": [
    {
     "data": {
      "text/plain": [
       "<function matplotlib.pyplot.legend(*args, **kwargs)>"
      ]
     },
     "execution_count": 14,
     "metadata": {},
     "output_type": "execute_result"
    },
    {
     "data": {
      "image/png": "[encoded data removed]",
      "text/plain": [
       "<Figure size 432x288 with 1 Axes>"
      ]
     },
     "metadata": {
      "needs_background": "light"
     },
     "output_type": "display_data"
    }
   ],
   "source": [
    "import matplotlib.pyplot as plt \n",
    "\n",
    "\n",
    "plt.figure() # Objeto \n",
    "plt.scatter(weather_filtered['datetime'].index, weather_filtered['temp'], alpha=0.5) # Agregando los valores de los ejes\n",
    "plt.xlabel('Día')\n",
    "plt.ylabel('Temperatura')\n",
    "plt.legend"
   ]
  },
  {
   "cell_type": "code",
   "execution_count": 16,
   "metadata": {},
   "outputs": [
    {
     "data": {
      "text/html": [
       "<div>\n",
       "<style scoped>\n",
       "    .dataframe tbody tr th:only-of-type {\n",
       "        vertical-align: middle;\n",
       "    }\n",
       "\n",
       "    .dataframe tbody tr th {\n",
       "        vertical-align: top;\n",
       "    }\n",
       "\n",
       "    .dataframe thead th {\n",
       "        text-align: right;\n",
       "    }\n",
       "</style>\n",
       "<table border=\"1\" class=\"dataframe\">\n",
       "  <thead>\n",
       "    <tr style=\"text-align: right;\">\n",
       "      <th></th>\n",
       "      <th>datetime</th>\n",
       "      <th>temp</th>\n",
       "    </tr>\n",
       "  </thead>\n",
       "  <tbody>\n",
       "    <tr>\n",
       "      <th>150</th>\n",
       "      <td>2023-05-31</td>\n",
       "      <td>21.0</td>\n",
       "    </tr>\n",
       "    <tr>\n",
       "      <th>151</th>\n",
       "      <td>2023-06-01</td>\n",
       "      <td>21.8</td>\n",
       "    </tr>\n",
       "    <tr>\n",
       "      <th>152</th>\n",
       "      <td>2023-06-02</td>\n",
       "      <td>23.0</td>\n",
       "    </tr>\n",
       "    <tr>\n",
       "      <th>153</th>\n",
       "      <td>2023-06-03</td>\n",
       "      <td>23.4</td>\n",
       "    </tr>\n",
       "    <tr>\n",
       "      <th>154</th>\n",
       "      <td>2023-06-04</td>\n",
       "      <td>23.4</td>\n",
       "    </tr>\n",
       "    <tr>\n",
       "      <th>155</th>\n",
       "      <td>2023-06-05</td>\n",
       "      <td>20.3</td>\n",
       "    </tr>\n",
       "    <tr>\n",
       "      <th>156</th>\n",
       "      <td>2023-06-06</td>\n",
       "      <td>20.2</td>\n",
       "    </tr>\n",
       "    <tr>\n",
       "      <th>157</th>\n",
       "      <td>2023-06-07</td>\n",
       "      <td>18.6</td>\n",
       "    </tr>\n",
       "    <tr>\n",
       "      <th>158</th>\n",
       "      <td>2023-06-08</td>\n",
       "      <td>20.9</td>\n",
       "    </tr>\n",
       "    <tr>\n",
       "      <th>159</th>\n",
       "      <td>2023-06-09</td>\n",
       "      <td>22.9</td>\n",
       "    </tr>\n",
       "    <tr>\n",
       "      <th>160</th>\n",
       "      <td>2023-06-10</td>\n",
       "      <td>23.4</td>\n",
       "    </tr>\n",
       "    <tr>\n",
       "      <th>161</th>\n",
       "      <td>2023-06-11</td>\n",
       "      <td>22.4</td>\n",
       "    </tr>\n",
       "    <tr>\n",
       "      <th>162</th>\n",
       "      <td>2023-06-12</td>\n",
       "      <td>23.3</td>\n",
       "    </tr>\n",
       "    <tr>\n",
       "      <th>163</th>\n",
       "      <td>2023-06-13</td>\n",
       "      <td>22.7</td>\n",
       "    </tr>\n",
       "    <tr>\n",
       "      <th>164</th>\n",
       "      <td>2023-06-14</td>\n",
       "      <td>24.9</td>\n",
       "    </tr>\n",
       "    <tr>\n",
       "      <th>165</th>\n",
       "      <td>2023-06-15</td>\n",
       "      <td>23.6</td>\n",
       "    </tr>\n",
       "    <tr>\n",
       "      <th>166</th>\n",
       "      <td>2023-06-16</td>\n",
       "      <td>24.7</td>\n",
       "    </tr>\n",
       "    <tr>\n",
       "      <th>167</th>\n",
       "      <td>2023-06-17</td>\n",
       "      <td>23.6</td>\n",
       "    </tr>\n",
       "    <tr>\n",
       "      <th>168</th>\n",
       "      <td>2023-06-18</td>\n",
       "      <td>24.1</td>\n",
       "    </tr>\n",
       "    <tr>\n",
       "      <th>169</th>\n",
       "      <td>2023-06-19</td>\n",
       "      <td>23.7</td>\n",
       "    </tr>\n",
       "  </tbody>\n",
       "</table>\n",
       "</div>"
      ],
      "text/plain": [
       "       datetime  temp\n",
       "150  2023-05-31  21.0\n",
       "151  2023-06-01  21.8\n",
       "152  2023-06-02  23.0\n",
       "153  2023-06-03  23.4\n",
       "154  2023-06-04  23.4\n",
       "155  2023-06-05  20.3\n",
       "156  2023-06-06  20.2\n",
       "157  2023-06-07  18.6\n",
       "158  2023-06-08  20.9\n",
       "159  2023-06-09  22.9\n",
       "160  2023-06-10  23.4\n",
       "161  2023-06-11  22.4\n",
       "162  2023-06-12  23.3\n",
       "163  2023-06-13  22.7\n",
       "164  2023-06-14  24.9\n",
       "165  2023-06-15  23.6\n",
       "166  2023-06-16  24.7\n",
       "167  2023-06-17  23.6\n",
       "168  2023-06-18  24.1\n",
       "169  2023-06-19  23.7"
      ]
     },
     "execution_count": 16,
     "metadata": {},
     "output_type": "execute_result"
    }
   ],
   "source": [
    "# De esa manera el valor 0 es 2023-12-26, tal como está en el primer registro del arreglo \n",
    "\n",
    "weather_filtered[150:170]"
   ]
  },
  {
   "cell_type": "code",
   "execution_count": 17,
   "metadata": {},
   "outputs": [
    {
     "data": {
      "text/html": [
       "<div>\n",
       "<style scoped>\n",
       "    .dataframe tbody tr th:only-of-type {\n",
       "        vertical-align: middle;\n",
       "    }\n",
       "\n",
       "    .dataframe tbody tr th {\n",
       "        vertical-align: top;\n",
       "    }\n",
       "\n",
       "    .dataframe thead th {\n",
       "        text-align: right;\n",
       "    }\n",
       "</style>\n",
       "<table border=\"1\" class=\"dataframe\">\n",
       "  <thead>\n",
       "    <tr style=\"text-align: right;\">\n",
       "      <th></th>\n",
       "      <th>datetime</th>\n",
       "      <th>temp</th>\n",
       "    </tr>\n",
       "  </thead>\n",
       "  <tbody>\n",
       "    <tr>\n",
       "      <th>0</th>\n",
       "      <td>2023-01-01</td>\n",
       "      <td>13.2</td>\n",
       "    </tr>\n",
       "    <tr>\n",
       "      <th>1</th>\n",
       "      <td>2023-01-02</td>\n",
       "      <td>14.3</td>\n",
       "    </tr>\n",
       "    <tr>\n",
       "      <th>2</th>\n",
       "      <td>2023-01-03</td>\n",
       "      <td>15.6</td>\n",
       "    </tr>\n",
       "    <tr>\n",
       "      <th>3</th>\n",
       "      <td>2023-01-04</td>\n",
       "      <td>13.5</td>\n",
       "    </tr>\n",
       "    <tr>\n",
       "      <th>4</th>\n",
       "      <td>2023-01-05</td>\n",
       "      <td>14.9</td>\n",
       "    </tr>\n",
       "    <tr>\n",
       "      <th>...</th>\n",
       "      <td>...</td>\n",
       "      <td>...</td>\n",
       "    </tr>\n",
       "    <tr>\n",
       "      <th>384</th>\n",
       "      <td>2024-01-20</td>\n",
       "      <td>13.1</td>\n",
       "    </tr>\n",
       "    <tr>\n",
       "      <th>385</th>\n",
       "      <td>2024-01-21</td>\n",
       "      <td>13.5</td>\n",
       "    </tr>\n",
       "    <tr>\n",
       "      <th>386</th>\n",
       "      <td>2024-01-22</td>\n",
       "      <td>13.7</td>\n",
       "    </tr>\n",
       "    <tr>\n",
       "      <th>387</th>\n",
       "      <td>2024-01-23</td>\n",
       "      <td>13.7</td>\n",
       "    </tr>\n",
       "    <tr>\n",
       "      <th>388</th>\n",
       "      <td>2024-01-24</td>\n",
       "      <td>13.9</td>\n",
       "    </tr>\n",
       "  </tbody>\n",
       "</table>\n",
       "<p>387 rows × 2 columns</p>\n",
       "</div>"
      ],
      "text/plain": [
       "       datetime  temp\n",
       "0    2023-01-01  13.2\n",
       "1    2023-01-02  14.3\n",
       "2    2023-01-03  15.6\n",
       "3    2023-01-04  13.5\n",
       "4    2023-01-05  14.9\n",
       "..          ...   ...\n",
       "384  2024-01-20  13.1\n",
       "385  2024-01-21  13.5\n",
       "386  2024-01-22  13.7\n",
       "387  2024-01-23  13.7\n",
       "388  2024-01-24  13.9\n",
       "\n",
       "[387 rows x 2 columns]"
      ]
     },
     "execution_count": 17,
     "metadata": {},
     "output_type": "execute_result"
    }
   ],
   "source": [
    "# Eliminamos el dato 164 y 166 (considerándolos como ouliers si deseamos)\n",
    "\n",
    "weather_filtered = weather_filtered.drop([164, 166])\n",
    "weather_filtered"
   ]
  },
  {
   "cell_type": "code",
   "execution_count": 18,
   "metadata": {},
   "outputs": [
    {
     "data": {
      "text/plain": [
       "<function matplotlib.pyplot.legend(*args, **kwargs)>"
      ]
     },
     "execution_count": 18,
     "metadata": {},
     "output_type": "execute_result"
    },
    {
     "data": {
      "image/png": "[encoded data removed]",
      "text/plain": [
       "<Figure size 432x288 with 1 Axes>"
      ]
     },
     "metadata": {
      "needs_background": "light"
     },
     "output_type": "display_data"
    }
   ],
   "source": [
    "plt.figure() # Objeto \n",
    "plt.scatter(weather_filtered['datetime'].index, weather_filtered['temp'], alpha=0.5) # Agregando los valores de los ejes\n",
    "plt.xlabel('Día')\n",
    "plt.ylabel('Temperatura')\n",
    "plt.legend\n",
    "\n",
    "# Vemos que hemos eliminado los datos con valor de temperatura por encima de 24 grados "
   ]
  },
  {
   "cell_type": "code",
   "execution_count": 19,
   "metadata": {},
   "outputs": [
    {
     "name": "stdout",
     "output_type": "stream",
     "text": [
      "387 387\n"
     ]
    }
   ],
   "source": [
    "# Separaremos las características y el target (la temperatura en nuestro caso)\n",
    "\n",
    "X = weather_filtered['datetime'].index # Almacenamos solo los index \n",
    "y = weather_filtered['temp']\n",
    "\n",
    "print(len(X), len(y))"
   ]
  },
  {
   "cell_type": "code",
   "execution_count": 20,
   "metadata": {},
   "outputs": [],
   "source": [
    "# Para realizar el entrenamiento en estos algorimos de aprendizaje supervisado, vamos a crear datos de prueba \n",
    "# y de entrenamiento, pero no usaremos datos de validación para que sea un ejemplo sencillo.\n",
    "\n",
    "from sklearn.model_selection import train_test_split"
   ]
  },
  {
   "cell_type": "code",
   "execution_count": 21,
   "metadata": {},
   "outputs": [],
   "source": [
    "X_train, X_test, y_train, y_test  = train_test_split(X, y, test_size=0.2, random_state=0)\n"
   ]
  },
  {
   "cell_type": "code",
   "execution_count": 22,
   "metadata": {},
   "outputs": [],
   "source": [
    "# Crear el modelo de árboles de decisión \n",
    "from sklearn.tree import DecisionTreeRegressor "
   ]
  },
  {
   "cell_type": "code",
   "execution_count": 23,
   "metadata": {},
   "outputs": [
    {
     "ename": "ValueError",
     "evalue": "Expected 2D array, got 1D array instead:\narray=[288.  56.   8. 263. 134. 369. 385. 309. 230.  63. 236. 350. 331.  81.\n 338. 240. 360.  89. 169.  21. 301. 183. 201.  49. 218. 223.  92. 312.\n 284. 379. 145. 352.  22. 232. 113. 302. 155. 158. 181.  66. 220. 153.\n  12. 101. 303. 296. 372. 299.  17. 315. 150. 388.  30. 114. 140. 103.\n 173. 225. 175. 116. 320. 120. 172. 383. 198. 136. 348. 126. 208. 291.\n 273. 133.  33. 367.  34. 332.  97.  85. 242. 354. 305. 380. 212. 192.\n 108.  46. 311. 178. 206.  73. 137. 370. 219. 193.  29. 280.  51. 318.\n 341.  27.   2. 200. 156. 274. 365. 357. 138. 216. 202. 266. 270.  35.\n 297. 377.  24. 327.  44. 221. 129.  93. 111. 168. 322. 265. 252.  18.\n 276.  79. 306. 231.  71. 254. 328. 374. 222. 160. 104. 161.  83. 191.\n 386. 118. 234. 190. 210. 364. 110. 149. 157. 152.  16. 261.  75. 109.\n 317. 207. 271. 139. 382.   4.  96.  14.  61. 238.  67. 310. 196. 154.\n 251. 300.  19. 362.  40. 112.  13. 107. 228. 298.   3. 125.  77. 186.\n 324. 368. 363. 184. 345.  80. 260.  11. 349.  86. 268.  36. 371.  58.\n  41. 272.  50. 211. 308. 307. 321. 123. 224.  62. 295. 130. 189.  23.\n  43.   0. 203. 329.  98. 376. 180. 258.  94. 358.  95. 356. 171.  69.\n  48. 209. 281. 229. 148. 143. 182. 131. 346. 387. 264. 205.  84. 121.\n 334. 355.  91.  82. 269. 119. 293.  57. 323. 259. 344.  42. 105. 275.\n 342.  38.  53. 336. 128. 292.  28. 185. 163. 151. 246. 204.  31.  32.\n 127. 187. 381. 290. 351. 147. 287. 359. 179.  99. 340. 337. 199. 245.\n 115. 267.  72. 335.  25. 167. 339. 373. 176. 375.  39. 195. 316.  88.\n  70.  87. 294. 244. 279. 213.   9. 361. 197. 253. 325. 194. 117.  47.\n 174.].\nReshape your data either using array.reshape(-1, 1) if your data has a single feature or array.reshape(1, -1) if it contains a single sample.",
     "output_type": "error",
     "traceback": [
      "\u001b[1;31m---------------------------------------------------------------------------\u001b[0m",
      "\u001b[1;31mValueError\u001b[0m                                Traceback (most recent call last)",
      "Input \u001b[1;32mIn [23]\u001b[0m, in \u001b[0;36m<cell line: 3>\u001b[1;34m()\u001b[0m\n\u001b[0;32m      1\u001b[0m \u001b[38;5;66;03m# Instancia del modelo\u001b[39;00m\n\u001b[0;32m      2\u001b[0m dtr_model \u001b[38;5;241m=\u001b[39m DecisionTreeRegressor()\n\u001b[1;32m----> 3\u001b[0m \u001b[43mdtr_model\u001b[49m\u001b[38;5;241;43m.\u001b[39;49m\u001b[43mfit\u001b[49m\u001b[43m(\u001b[49m\u001b[43mX_train\u001b[49m\u001b[43m,\u001b[49m\u001b[43m \u001b[49m\u001b[43my_train\u001b[49m\u001b[43m)\u001b[49m\n",
      "File \u001b[1;32mc:\\Anaconda\\lib\\site-packages\\sklearn\\tree\\_classes.py:1315\u001b[0m, in \u001b[0;36mDecisionTreeRegressor.fit\u001b[1;34m(self, X, y, sample_weight, check_input, X_idx_sorted)\u001b[0m\n\u001b[0;32m   1278\u001b[0m \u001b[38;5;28;01mdef\u001b[39;00m \u001b[38;5;21mfit\u001b[39m(\n\u001b[0;32m   1279\u001b[0m     \u001b[38;5;28mself\u001b[39m, X, y, sample_weight\u001b[38;5;241m=\u001b[39m\u001b[38;5;28;01mNone\u001b[39;00m, check_input\u001b[38;5;241m=\u001b[39m\u001b[38;5;28;01mTrue\u001b[39;00m, X_idx_sorted\u001b[38;5;241m=\u001b[39m\u001b[38;5;124m\"\u001b[39m\u001b[38;5;124mdeprecated\u001b[39m\u001b[38;5;124m\"\u001b[39m\n\u001b[0;32m   1280\u001b[0m ):\n\u001b[0;32m   1281\u001b[0m     \u001b[38;5;124;03m\"\"\"Build a decision tree regressor from the training set (X, y).\u001b[39;00m\n\u001b[0;32m   1282\u001b[0m \n\u001b[0;32m   1283\u001b[0m \u001b[38;5;124;03m    Parameters\u001b[39;00m\n\u001b[1;32m   (...)\u001b[0m\n\u001b[0;32m   1312\u001b[0m \u001b[38;5;124;03m        Fitted estimator.\u001b[39;00m\n\u001b[0;32m   1313\u001b[0m \u001b[38;5;124;03m    \"\"\"\u001b[39;00m\n\u001b[1;32m-> 1315\u001b[0m     \u001b[38;5;28;43msuper\u001b[39;49m\u001b[43m(\u001b[49m\u001b[43m)\u001b[49m\u001b[38;5;241;43m.\u001b[39;49m\u001b[43mfit\u001b[49m\u001b[43m(\u001b[49m\n\u001b[0;32m   1316\u001b[0m \u001b[43m        \u001b[49m\u001b[43mX\u001b[49m\u001b[43m,\u001b[49m\n\u001b[0;32m   1317\u001b[0m \u001b[43m        \u001b[49m\u001b[43my\u001b[49m\u001b[43m,\u001b[49m\n\u001b[0;32m   1318\u001b[0m \u001b[43m        \u001b[49m\u001b[43msample_weight\u001b[49m\u001b[38;5;241;43m=\u001b[39;49m\u001b[43msample_weight\u001b[49m\u001b[43m,\u001b[49m\n\u001b[0;32m   1319\u001b[0m \u001b[43m        \u001b[49m\u001b[43mcheck_input\u001b[49m\u001b[38;5;241;43m=\u001b[39;49m\u001b[43mcheck_input\u001b[49m\u001b[43m,\u001b[49m\n\u001b[0;32m   1320\u001b[0m \u001b[43m        \u001b[49m\u001b[43mX_idx_sorted\u001b[49m\u001b[38;5;241;43m=\u001b[39;49m\u001b[43mX_idx_sorted\u001b[49m\u001b[43m,\u001b[49m\n\u001b[0;32m   1321\u001b[0m \u001b[43m    \u001b[49m\u001b[43m)\u001b[49m\n\u001b[0;32m   1322\u001b[0m     \u001b[38;5;28;01mreturn\u001b[39;00m \u001b[38;5;28mself\u001b[39m\n",
      "File \u001b[1;32mc:\\Anaconda\\lib\\site-packages\\sklearn\\tree\\_classes.py:165\u001b[0m, in \u001b[0;36mBaseDecisionTree.fit\u001b[1;34m(self, X, y, sample_weight, check_input, X_idx_sorted)\u001b[0m\n\u001b[0;32m    163\u001b[0m check_X_params \u001b[38;5;241m=\u001b[39m \u001b[38;5;28mdict\u001b[39m(dtype\u001b[38;5;241m=\u001b[39mDTYPE, accept_sparse\u001b[38;5;241m=\u001b[39m\u001b[38;5;124m\"\u001b[39m\u001b[38;5;124mcsc\u001b[39m\u001b[38;5;124m\"\u001b[39m)\n\u001b[0;32m    164\u001b[0m check_y_params \u001b[38;5;241m=\u001b[39m \u001b[38;5;28mdict\u001b[39m(ensure_2d\u001b[38;5;241m=\u001b[39m\u001b[38;5;28;01mFalse\u001b[39;00m, dtype\u001b[38;5;241m=\u001b[39m\u001b[38;5;28;01mNone\u001b[39;00m)\n\u001b[1;32m--> 165\u001b[0m X, y \u001b[38;5;241m=\u001b[39m \u001b[38;5;28;43mself\u001b[39;49m\u001b[38;5;241;43m.\u001b[39;49m\u001b[43m_validate_data\u001b[49m\u001b[43m(\u001b[49m\n\u001b[0;32m    166\u001b[0m \u001b[43m    \u001b[49m\u001b[43mX\u001b[49m\u001b[43m,\u001b[49m\u001b[43m \u001b[49m\u001b[43my\u001b[49m\u001b[43m,\u001b[49m\u001b[43m \u001b[49m\u001b[43mvalidate_separately\u001b[49m\u001b[38;5;241;43m=\u001b[39;49m\u001b[43m(\u001b[49m\u001b[43mcheck_X_params\u001b[49m\u001b[43m,\u001b[49m\u001b[43m \u001b[49m\u001b[43mcheck_y_params\u001b[49m\u001b[43m)\u001b[49m\n\u001b[0;32m    167\u001b[0m \u001b[43m\u001b[49m\u001b[43m)\u001b[49m\n\u001b[0;32m    168\u001b[0m \u001b[38;5;28;01mif\u001b[39;00m issparse(X):\n\u001b[0;32m    169\u001b[0m     X\u001b[38;5;241m.\u001b[39msort_indices()\n",
      "File \u001b[1;32mc:\\Anaconda\\lib\\site-packages\\sklearn\\base.py:578\u001b[0m, in \u001b[0;36mBaseEstimator._validate_data\u001b[1;34m(self, X, y, reset, validate_separately, **check_params)\u001b[0m\n\u001b[0;32m    572\u001b[0m \u001b[38;5;28;01mif\u001b[39;00m validate_separately:\n\u001b[0;32m    573\u001b[0m     \u001b[38;5;66;03m# We need this because some estimators validate X and y\u001b[39;00m\n\u001b[0;32m    574\u001b[0m     \u001b[38;5;66;03m# separately, and in general, separately calling check_array()\u001b[39;00m\n\u001b[0;32m    575\u001b[0m     \u001b[38;5;66;03m# on X and y isn't equivalent to just calling check_X_y()\u001b[39;00m\n\u001b[0;32m    576\u001b[0m     \u001b[38;5;66;03m# :(\u001b[39;00m\n\u001b[0;32m    577\u001b[0m     check_X_params, check_y_params \u001b[38;5;241m=\u001b[39m validate_separately\n\u001b[1;32m--> 578\u001b[0m     X \u001b[38;5;241m=\u001b[39m check_array(X, \u001b[38;5;241m*\u001b[39m\u001b[38;5;241m*\u001b[39mcheck_X_params)\n\u001b[0;32m    579\u001b[0m     y \u001b[38;5;241m=\u001b[39m check_array(y, \u001b[38;5;241m*\u001b[39m\u001b[38;5;241m*\u001b[39mcheck_y_params)\n\u001b[0;32m    580\u001b[0m \u001b[38;5;28;01melse\u001b[39;00m:\n",
      "File \u001b[1;32mc:\\Anaconda\\lib\\site-packages\\sklearn\\utils\\validation.py:769\u001b[0m, in \u001b[0;36mcheck_array\u001b[1;34m(array, accept_sparse, accept_large_sparse, dtype, order, copy, force_all_finite, ensure_2d, allow_nd, ensure_min_samples, ensure_min_features, estimator)\u001b[0m\n\u001b[0;32m    767\u001b[0m     \u001b[38;5;66;03m# If input is 1D raise error\u001b[39;00m\n\u001b[0;32m    768\u001b[0m     \u001b[38;5;28;01mif\u001b[39;00m array\u001b[38;5;241m.\u001b[39mndim \u001b[38;5;241m==\u001b[39m \u001b[38;5;241m1\u001b[39m:\n\u001b[1;32m--> 769\u001b[0m         \u001b[38;5;28;01mraise\u001b[39;00m \u001b[38;5;167;01mValueError\u001b[39;00m(\n\u001b[0;32m    770\u001b[0m             \u001b[38;5;124m\"\u001b[39m\u001b[38;5;124mExpected 2D array, got 1D array instead:\u001b[39m\u001b[38;5;130;01m\\n\u001b[39;00m\u001b[38;5;124marray=\u001b[39m\u001b[38;5;132;01m{}\u001b[39;00m\u001b[38;5;124m.\u001b[39m\u001b[38;5;130;01m\\n\u001b[39;00m\u001b[38;5;124m\"\u001b[39m\n\u001b[0;32m    771\u001b[0m             \u001b[38;5;124m\"\u001b[39m\u001b[38;5;124mReshape your data either using array.reshape(-1, 1) if \u001b[39m\u001b[38;5;124m\"\u001b[39m\n\u001b[0;32m    772\u001b[0m             \u001b[38;5;124m\"\u001b[39m\u001b[38;5;124myour data has a single feature or array.reshape(1, -1) \u001b[39m\u001b[38;5;124m\"\u001b[39m\n\u001b[0;32m    773\u001b[0m             \u001b[38;5;124m\"\u001b[39m\u001b[38;5;124mif it contains a single sample.\u001b[39m\u001b[38;5;124m\"\u001b[39m\u001b[38;5;241m.\u001b[39mformat(array)\n\u001b[0;32m    774\u001b[0m         )\n\u001b[0;32m    776\u001b[0m \u001b[38;5;66;03m# make sure we actually converted to numeric:\u001b[39;00m\n\u001b[0;32m    777\u001b[0m \u001b[38;5;28;01mif\u001b[39;00m dtype_numeric \u001b[38;5;129;01mand\u001b[39;00m array\u001b[38;5;241m.\u001b[39mdtype\u001b[38;5;241m.\u001b[39mkind \u001b[38;5;129;01min\u001b[39;00m \u001b[38;5;124m\"\u001b[39m\u001b[38;5;124mOUSV\u001b[39m\u001b[38;5;124m\"\u001b[39m:\n",
      "\u001b[1;31mValueError\u001b[0m: Expected 2D array, got 1D array instead:\narray=[288.  56.   8. 263. 134. 369. 385. 309. 230.  63. 236. 350. 331.  81.\n 338. 240. 360.  89. 169.  21. 301. 183. 201.  49. 218. 223.  92. 312.\n 284. 379. 145. 352.  22. 232. 113. 302. 155. 158. 181.  66. 220. 153.\n  12. 101. 303. 296. 372. 299.  17. 315. 150. 388.  30. 114. 140. 103.\n 173. 225. 175. 116. 320. 120. 172. 383. 198. 136. 348. 126. 208. 291.\n 273. 133.  33. 367.  34. 332.  97.  85. 242. 354. 305. 380. 212. 192.\n 108.  46. 311. 178. 206.  73. 137. 370. 219. 193.  29. 280.  51. 318.\n 341.  27.   2. 200. 156. 274. 365. 357. 138. 216. 202. 266. 270.  35.\n 297. 377.  24. 327.  44. 221. 129.  93. 111. 168. 322. 265. 252.  18.\n 276.  79. 306. 231.  71. 254. 328. 374. 222. 160. 104. 161.  83. 191.\n 386. 118. 234. 190. 210. 364. 110. 149. 157. 152.  16. 261.  75. 109.\n 317. 207. 271. 139. 382.   4.  96.  14.  61. 238.  67. 310. 196. 154.\n 251. 300.  19. 362.  40. 112.  13. 107. 228. 298.   3. 125.  77. 186.\n 324. 368. 363. 184. 345.  80. 260.  11. 349.  86. 268.  36. 371.  58.\n  41. 272.  50. 211. 308. 307. 321. 123. 224.  62. 295. 130. 189.  23.\n  43.   0. 203. 329.  98. 376. 180. 258.  94. 358.  95. 356. 171.  69.\n  48. 209. 281. 229. 148. 143. 182. 131. 346. 387. 264. 205.  84. 121.\n 334. 355.  91.  82. 269. 119. 293.  57. 323. 259. 344.  42. 105. 275.\n 342.  38.  53. 336. 128. 292.  28. 185. 163. 151. 246. 204.  31.  32.\n 127. 187. 381. 290. 351. 147. 287. 359. 179.  99. 340. 337. 199. 245.\n 115. 267.  72. 335.  25. 167. 339. 373. 176. 375.  39. 195. 316.  88.\n  70.  87. 294. 244. 279. 213.   9. 361. 197. 253. 325. 194. 117.  47.\n 174.].\nReshape your data either using array.reshape(-1, 1) if your data has a single feature or array.reshape(1, -1) if it contains a single sample."
     ]
    }
   ],
   "source": [
    "# Instancia del modelo\n",
    "dtr_model = DecisionTreeRegressor()\n",
    "dtr_model.fit(X_train, y_train)"
   ]
  },
  {
   "cell_type": "code",
   "execution_count": 24,
   "metadata": {},
   "outputs": [
    {
     "name": "stdout",
     "output_type": "stream",
     "text": [
      "(309, 1)\n"
     ]
    }
   ],
   "source": [
    "# Para arreglar el problema con las dimenciones (espera una matriz y le estamos enviando un array)\n",
    "import numpy as np \n",
    "\n",
    "X_train = np.reshape(X_train, (-1, 1)) # Agregando una dimensión sin valores ni números (-1), mismos datos agregando una dimensión\n",
    "print(X_train.shape)"
   ]
  },
  {
   "cell_type": "code",
   "execution_count": 25,
   "metadata": {},
   "outputs": [
    {
     "data": {
      "text/plain": [
       "DecisionTreeRegressor()"
      ]
     },
     "execution_count": 25,
     "metadata": {},
     "output_type": "execute_result"
    }
   ],
   "source": [
    "# volvemos a intentar hacer el fitting \n",
    "dtr_model = DecisionTreeRegressor()\n",
    "dtr_model.fit(X_train, y_train)"
   ]
  },
  {
   "cell_type": "code",
   "execution_count": 26,
   "metadata": {},
   "outputs": [
    {
     "ename": "ValueError",
     "evalue": "Expected 2D array, got 1D array instead:\narray=[ 54. 124. 314. 177. 283. 214. 304. 282. 100. 243. 142.  37. 122. 278.\n 247.  59.  68. 170. 255.  52. 384. 353. 313.  76. 237. 159. 227. 162.\n 215. 217. 286. 326. 366. 333.   6.   1. 289. 343. 233. 146. 102.  60.\n 256.  10.  26.  45.  65. 141. 285. 188. 257.  15. 235. 249.   5.  74.\n 144.   7. 277. 319. 132. 226. 239. 330.  20. 347. 241. 262.  78. 135.\n 165.  64.  55.  90. 378. 106. 248. 250.].\nReshape your data either using array.reshape(-1, 1) if your data has a single feature or array.reshape(1, -1) if it contains a single sample.",
     "output_type": "error",
     "traceback": [
      "\u001b[1;31m---------------------------------------------------------------------------\u001b[0m",
      "\u001b[1;31mValueError\u001b[0m                                Traceback (most recent call last)",
      "Input \u001b[1;32mIn [26]\u001b[0m, in \u001b[0;36m<cell line: 3>\u001b[1;34m()\u001b[0m\n\u001b[0;32m      1\u001b[0m \u001b[38;5;66;03m# Con el modelo ya entrenado, vamos a intentar predecir los datos de test\u001b[39;00m\n\u001b[1;32m----> 3\u001b[0m y_pred \u001b[38;5;241m=\u001b[39m \u001b[43mdtr_model\u001b[49m\u001b[38;5;241;43m.\u001b[39;49m\u001b[43mpredict\u001b[49m\u001b[43m(\u001b[49m\u001b[43mX_test\u001b[49m\u001b[43m)\u001b[49m\n",
      "File \u001b[1;32mc:\\Anaconda\\lib\\site-packages\\sklearn\\tree\\_classes.py:467\u001b[0m, in \u001b[0;36mBaseDecisionTree.predict\u001b[1;34m(self, X, check_input)\u001b[0m\n\u001b[0;32m    444\u001b[0m \u001b[38;5;124;03m\"\"\"Predict class or regression value for X.\u001b[39;00m\n\u001b[0;32m    445\u001b[0m \n\u001b[0;32m    446\u001b[0m \u001b[38;5;124;03mFor a classification model, the predicted class for each sample in X is\u001b[39;00m\n\u001b[1;32m   (...)\u001b[0m\n\u001b[0;32m    464\u001b[0m \u001b[38;5;124;03m    The predicted classes, or the predict values.\u001b[39;00m\n\u001b[0;32m    465\u001b[0m \u001b[38;5;124;03m\"\"\"\u001b[39;00m\n\u001b[0;32m    466\u001b[0m check_is_fitted(\u001b[38;5;28mself\u001b[39m)\n\u001b[1;32m--> 467\u001b[0m X \u001b[38;5;241m=\u001b[39m \u001b[38;5;28;43mself\u001b[39;49m\u001b[38;5;241;43m.\u001b[39;49m\u001b[43m_validate_X_predict\u001b[49m\u001b[43m(\u001b[49m\u001b[43mX\u001b[49m\u001b[43m,\u001b[49m\u001b[43m \u001b[49m\u001b[43mcheck_input\u001b[49m\u001b[43m)\u001b[49m\n\u001b[0;32m    468\u001b[0m proba \u001b[38;5;241m=\u001b[39m \u001b[38;5;28mself\u001b[39m\u001b[38;5;241m.\u001b[39mtree_\u001b[38;5;241m.\u001b[39mpredict(X)\n\u001b[0;32m    469\u001b[0m n_samples \u001b[38;5;241m=\u001b[39m X\u001b[38;5;241m.\u001b[39mshape[\u001b[38;5;241m0\u001b[39m]\n",
      "File \u001b[1;32mc:\\Anaconda\\lib\\site-packages\\sklearn\\tree\\_classes.py:433\u001b[0m, in \u001b[0;36mBaseDecisionTree._validate_X_predict\u001b[1;34m(self, X, check_input)\u001b[0m\n\u001b[0;32m    431\u001b[0m \u001b[38;5;124;03m\"\"\"Validate the training data on predict (probabilities).\"\"\"\u001b[39;00m\n\u001b[0;32m    432\u001b[0m \u001b[38;5;28;01mif\u001b[39;00m check_input:\n\u001b[1;32m--> 433\u001b[0m     X \u001b[38;5;241m=\u001b[39m \u001b[38;5;28;43mself\u001b[39;49m\u001b[38;5;241;43m.\u001b[39;49m\u001b[43m_validate_data\u001b[49m\u001b[43m(\u001b[49m\u001b[43mX\u001b[49m\u001b[43m,\u001b[49m\u001b[43m \u001b[49m\u001b[43mdtype\u001b[49m\u001b[38;5;241;43m=\u001b[39;49m\u001b[43mDTYPE\u001b[49m\u001b[43m,\u001b[49m\u001b[43m \u001b[49m\u001b[43maccept_sparse\u001b[49m\u001b[38;5;241;43m=\u001b[39;49m\u001b[38;5;124;43m\"\u001b[39;49m\u001b[38;5;124;43mcsr\u001b[39;49m\u001b[38;5;124;43m\"\u001b[39;49m\u001b[43m,\u001b[49m\u001b[43m \u001b[49m\u001b[43mreset\u001b[49m\u001b[38;5;241;43m=\u001b[39;49m\u001b[38;5;28;43;01mFalse\u001b[39;49;00m\u001b[43m)\u001b[49m\n\u001b[0;32m    434\u001b[0m     \u001b[38;5;28;01mif\u001b[39;00m issparse(X) \u001b[38;5;129;01mand\u001b[39;00m (\n\u001b[0;32m    435\u001b[0m         X\u001b[38;5;241m.\u001b[39mindices\u001b[38;5;241m.\u001b[39mdtype \u001b[38;5;241m!=\u001b[39m np\u001b[38;5;241m.\u001b[39mintc \u001b[38;5;129;01mor\u001b[39;00m X\u001b[38;5;241m.\u001b[39mindptr\u001b[38;5;241m.\u001b[39mdtype \u001b[38;5;241m!=\u001b[39m np\u001b[38;5;241m.\u001b[39mintc\n\u001b[0;32m    436\u001b[0m     ):\n\u001b[0;32m    437\u001b[0m         \u001b[38;5;28;01mraise\u001b[39;00m \u001b[38;5;167;01mValueError\u001b[39;00m(\u001b[38;5;124m\"\u001b[39m\u001b[38;5;124mNo support for np.int64 index based sparse matrices\u001b[39m\u001b[38;5;124m\"\u001b[39m)\n",
      "File \u001b[1;32mc:\\Anaconda\\lib\\site-packages\\sklearn\\base.py:566\u001b[0m, in \u001b[0;36mBaseEstimator._validate_data\u001b[1;34m(self, X, y, reset, validate_separately, **check_params)\u001b[0m\n\u001b[0;32m    564\u001b[0m     \u001b[38;5;28;01mraise\u001b[39;00m \u001b[38;5;167;01mValueError\u001b[39;00m(\u001b[38;5;124m\"\u001b[39m\u001b[38;5;124mValidation should be done on X, y or both.\u001b[39m\u001b[38;5;124m\"\u001b[39m)\n\u001b[0;32m    565\u001b[0m \u001b[38;5;28;01melif\u001b[39;00m \u001b[38;5;129;01mnot\u001b[39;00m no_val_X \u001b[38;5;129;01mand\u001b[39;00m no_val_y:\n\u001b[1;32m--> 566\u001b[0m     X \u001b[38;5;241m=\u001b[39m check_array(X, \u001b[38;5;241m*\u001b[39m\u001b[38;5;241m*\u001b[39mcheck_params)\n\u001b[0;32m    567\u001b[0m     out \u001b[38;5;241m=\u001b[39m X\n\u001b[0;32m    568\u001b[0m \u001b[38;5;28;01melif\u001b[39;00m no_val_X \u001b[38;5;129;01mand\u001b[39;00m \u001b[38;5;129;01mnot\u001b[39;00m no_val_y:\n",
      "File \u001b[1;32mc:\\Anaconda\\lib\\site-packages\\sklearn\\utils\\validation.py:769\u001b[0m, in \u001b[0;36mcheck_array\u001b[1;34m(array, accept_sparse, accept_large_sparse, dtype, order, copy, force_all_finite, ensure_2d, allow_nd, ensure_min_samples, ensure_min_features, estimator)\u001b[0m\n\u001b[0;32m    767\u001b[0m     \u001b[38;5;66;03m# If input is 1D raise error\u001b[39;00m\n\u001b[0;32m    768\u001b[0m     \u001b[38;5;28;01mif\u001b[39;00m array\u001b[38;5;241m.\u001b[39mndim \u001b[38;5;241m==\u001b[39m \u001b[38;5;241m1\u001b[39m:\n\u001b[1;32m--> 769\u001b[0m         \u001b[38;5;28;01mraise\u001b[39;00m \u001b[38;5;167;01mValueError\u001b[39;00m(\n\u001b[0;32m    770\u001b[0m             \u001b[38;5;124m\"\u001b[39m\u001b[38;5;124mExpected 2D array, got 1D array instead:\u001b[39m\u001b[38;5;130;01m\\n\u001b[39;00m\u001b[38;5;124marray=\u001b[39m\u001b[38;5;132;01m{}\u001b[39;00m\u001b[38;5;124m.\u001b[39m\u001b[38;5;130;01m\\n\u001b[39;00m\u001b[38;5;124m\"\u001b[39m\n\u001b[0;32m    771\u001b[0m             \u001b[38;5;124m\"\u001b[39m\u001b[38;5;124mReshape your data either using array.reshape(-1, 1) if \u001b[39m\u001b[38;5;124m\"\u001b[39m\n\u001b[0;32m    772\u001b[0m             \u001b[38;5;124m\"\u001b[39m\u001b[38;5;124myour data has a single feature or array.reshape(1, -1) \u001b[39m\u001b[38;5;124m\"\u001b[39m\n\u001b[0;32m    773\u001b[0m             \u001b[38;5;124m\"\u001b[39m\u001b[38;5;124mif it contains a single sample.\u001b[39m\u001b[38;5;124m\"\u001b[39m\u001b[38;5;241m.\u001b[39mformat(array)\n\u001b[0;32m    774\u001b[0m         )\n\u001b[0;32m    776\u001b[0m \u001b[38;5;66;03m# make sure we actually converted to numeric:\u001b[39;00m\n\u001b[0;32m    777\u001b[0m \u001b[38;5;28;01mif\u001b[39;00m dtype_numeric \u001b[38;5;129;01mand\u001b[39;00m array\u001b[38;5;241m.\u001b[39mdtype\u001b[38;5;241m.\u001b[39mkind \u001b[38;5;129;01min\u001b[39;00m \u001b[38;5;124m\"\u001b[39m\u001b[38;5;124mOUSV\u001b[39m\u001b[38;5;124m\"\u001b[39m:\n",
      "\u001b[1;31mValueError\u001b[0m: Expected 2D array, got 1D array instead:\narray=[ 54. 124. 314. 177. 283. 214. 304. 282. 100. 243. 142.  37. 122. 278.\n 247.  59.  68. 170. 255.  52. 384. 353. 313.  76. 237. 159. 227. 162.\n 215. 217. 286. 326. 366. 333.   6.   1. 289. 343. 233. 146. 102.  60.\n 256.  10.  26.  45.  65. 141. 285. 188. 257.  15. 235. 249.   5.  74.\n 144.   7. 277. 319. 132. 226. 239. 330.  20. 347. 241. 262.  78. 135.\n 165.  64.  55.  90. 378. 106. 248. 250.].\nReshape your data either using array.reshape(-1, 1) if your data has a single feature or array.reshape(1, -1) if it contains a single sample."
     ]
    }
   ],
   "source": [
    "# Con el modelo ya entrenado, vamos a intentar predecir los datos de test\n",
    "\n",
    "y_pred = dtr_model.predict(X_test)"
   ]
  },
  {
   "cell_type": "code",
   "execution_count": 27,
   "metadata": {},
   "outputs": [
    {
     "name": "stderr",
     "output_type": "stream",
     "text": [
      "C:\\Users\\Public\\Documents\\Wondershare\\CreatorTemp\\ipykernel_26020\\2795513342.py:2: FutureWarning: Support for multi-dimensional indexing (e.g. `obj[:, None]`) is deprecated and will be removed in a future version.  Convert to a numpy array before indexing instead.\n",
      "  y_pred = dtr_model.predict(X_test[:, np.newaxis])\n"
     ]
    }
   ],
   "source": [
    "# Dado que en el entrenamiento se ha enviado un arreglo de dos dimenciones se necesitará lo mismo para la predicción\n",
    "y_pred = dtr_model.predict(X_test[:, np.newaxis])"
   ]
  },
  {
   "cell_type": "code",
   "execution_count": 28,
   "metadata": {},
   "outputs": [
    {
     "data": {
      "text/plain": [
       "<function matplotlib.pyplot.legend(*args, **kwargs)>"
      ]
     },
     "execution_count": 28,
     "metadata": {},
     "output_type": "execute_result"
    },
    {
     "data": {
      "image/png": "[encoded data removed]",
      "text/plain": [
       "<Figure size 432x288 with 1 Axes>"
      ]
     },
     "metadata": {
      "needs_background": "light"
     },
     "output_type": "display_data"
    }
   ],
   "source": [
    "# Vamos a comparar la predicción con los datos reales en y_test \n",
    "\n",
    "plt.figure() # Objeto \n",
    "plt.scatter(X_test, y_test, alpha=0.5, color='green') # Agregando los valores de los ejes\n",
    "plt.xlabel('Día')\n",
    "plt.ylabel('Temperatura')\n",
    "plt.legend\n"
   ]
  },
  {
   "cell_type": "code",
   "execution_count": 29,
   "metadata": {},
   "outputs": [
    {
     "data": {
      "text/plain": [
       "<function matplotlib.pyplot.legend(*args, **kwargs)>"
      ]
     },
     "execution_count": 29,
     "metadata": {},
     "output_type": "execute_result"
    },
    {
     "data": {
      "image/png": "[encoded data removed]",
      "text/plain": [
       "<Figure size 432x288 with 1 Axes>"
      ]
     },
     "metadata": {
      "needs_background": "light"
     },
     "output_type": "display_data"
    }
   ],
   "source": [
    "# La predicción\n",
    "\n",
    "plt.figure() # Objeto \n",
    "plt.scatter(X_test, y_test, alpha=0.5, color='green') # reales\n",
    "plt.scatter(X_test, y_pred, alpha=0.5, color='red') # predicción\n",
    "plt.xlabel('Día')\n",
    "plt.ylabel('Temperatura')\n",
    "plt.legend\n"
   ]
  },
  {
   "cell_type": "code",
   "execution_count": 30,
   "metadata": {},
   "outputs": [
    {
     "data": {
      "text/plain": [
       "<function matplotlib.pyplot.legend(*args, **kwargs)>"
      ]
     },
     "execution_count": 30,
     "metadata": {},
     "output_type": "execute_result"
    },
    {
     "data": {
      "image/png": "[encoded data removed]",
      "text/plain": [
       "<Figure size 432x288 with 1 Axes>"
      ]
     },
     "metadata": {
      "needs_background": "light"
     },
     "output_type": "display_data"
    }
   ],
   "source": [
    "# Vemos que algunos datos coinciden, pero muchos no lo hacen, por lo que debemos de hacer una predicción de nuestro modelo \n",
    "\n",
    "# Es un problema de regresión permite generar diferentes curvas a diferencia de la regresión lineal  \n",
    "\n",
    "plt.figure() # Objeto \n",
    "plt.scatter(X_test, y_test, alpha=0.5, color='green') # reales\n",
    "plt.scatter(X_test, y_pred, alpha=0.5, color='red') # predicción\n",
    "plt.plot(X_test, y_pred, alpha=0.5, color='red') # Para ver la línea (función) \n",
    "plt.xlabel('Día')\n",
    "plt.ylabel('Temperatura')\n",
    "plt.legend"
   ]
  },
  {
   "cell_type": "code",
   "execution_count": 31,
   "metadata": {},
   "outputs": [
    {
     "data": {
      "text/plain": [
       "array([[ 54. ,  17.4],\n",
       "       [124. ,  20.4],\n",
       "       [314. ,  17.1],\n",
       "       [177. ,  18. ],\n",
       "       [283. ,  19. ],\n",
       "       [214. ,  18.8],\n",
       "       [304. ,  16.4],\n",
       "       [282. ,  16.8],\n",
       "       [100. ,  17.7],\n",
       "       [243. ,  17.7],\n",
       "       [142. ,  19.8],\n",
       "       [ 37. ,  14.8],\n",
       "       [122. ,  20.9],\n",
       "       [278. ,  17.3],\n",
       "       [247. ,  18.8],\n",
       "       [ 59. ,  20.6],\n",
       "       [ 68. ,  19. ],\n",
       "       [170. ,  23.7],\n",
       "       [255. ,  19.6],\n",
       "       [ 52. ,  16.2],\n",
       "       [384. ,  12.6],\n",
       "       [353. ,  12.5],\n",
       "       [313. ,  19.9],\n",
       "       [ 76. ,  16. ],\n",
       "       [237. ,  16.9],\n",
       "       [159. ,  20.9],\n",
       "       [227. ,  17.3],\n",
       "       [162. ,  22.4],\n",
       "       [215. ,  18.2],\n",
       "       [217. ,  18.2],\n",
       "       [286. ,  16.2],\n",
       "       [326. ,  12.9],\n",
       "       [366. ,  15. ],\n",
       "       [333. ,  14.8],\n",
       "       [  6. ,  14.9],\n",
       "       [  1. ,  13.2],\n",
       "       [289. ,  14.8],\n",
       "       [343. ,  15.7],\n",
       "       [233. ,  16.5],\n",
       "       [146. ,  20.4],\n",
       "       [102. ,  17. ],\n",
       "       [ 60. ,  19.6],\n",
       "       [256. ,  19.6],\n",
       "       [ 10. ,  15.3],\n",
       "       [ 26. ,  12.8],\n",
       "       [ 45. ,  17.1],\n",
       "       [ 65. ,  19.3],\n",
       "       [141. ,  18.8],\n",
       "       [285. ,  19. ],\n",
       "       [188. ,  19.2],\n",
       "       [257. ,  18.1],\n",
       "       [ 15. ,  13.4],\n",
       "       [235. ,  17.8],\n",
       "       [249. ,  18.3],\n",
       "       [  5. ,  14.9],\n",
       "       [ 74. ,  14.1],\n",
       "       [144. ,  19.8],\n",
       "       [  7. ,  13.7],\n",
       "       [277. ,  19.3],\n",
       "       [319. ,  16.9],\n",
       "       [132. ,  18.3],\n",
       "       [226. ,  17.6],\n",
       "       [239. ,  17.8],\n",
       "       [330. ,  13.9],\n",
       "       [ 20. ,  15.3],\n",
       "       [347. ,  13.2],\n",
       "       [241. ,  20.3],\n",
       "       [262. ,  17.2],\n",
       "       [ 78. ,  14.4],\n",
       "       [135. ,  17. ],\n",
       "       [165. ,  22.7],\n",
       "       [ 64. ,  21. ],\n",
       "       [ 55. ,  18.7],\n",
       "       [ 90. ,  19.6],\n",
       "       [378. ,  12.4],\n",
       "       [106. ,  19.1],\n",
       "       [248. ,  18.8],\n",
       "       [250. ,  18.3]])"
      ]
     },
     "execution_count": 31,
     "metadata": {},
     "output_type": "execute_result"
    }
   ],
   "source": [
    "# A pesar de que se hizo la separación de los datos con train_test_split, éstos no están ordenados en el eje Y.plt\n",
    "\n",
    "# Para poder ver la línea solamente vamos a visualizar los datos\n",
    "\n",
    "values = np.column_stack([X_test, y_pred])  # Para ordenar arreglos en columnas  \n",
    "values"
   ]
  },
  {
   "cell_type": "code",
   "execution_count": 32,
   "metadata": {},
   "outputs": [
    {
     "data": {
      "text/html": [
       "<div>\n",
       "<style scoped>\n",
       "    .dataframe tbody tr th:only-of-type {\n",
       "        vertical-align: middle;\n",
       "    }\n",
       "\n",
       "    .dataframe tbody tr th {\n",
       "        vertical-align: top;\n",
       "    }\n",
       "\n",
       "    .dataframe thead th {\n",
       "        text-align: right;\n",
       "    }\n",
       "</style>\n",
       "<table border=\"1\" class=\"dataframe\">\n",
       "  <thead>\n",
       "    <tr style=\"text-align: right;\">\n",
       "      <th></th>\n",
       "      <th>X_test</th>\n",
       "      <th>y_pred</th>\n",
       "    </tr>\n",
       "  </thead>\n",
       "  <tbody>\n",
       "    <tr>\n",
       "      <th>35</th>\n",
       "      <td>1.0</td>\n",
       "      <td>13.2</td>\n",
       "    </tr>\n",
       "    <tr>\n",
       "      <th>54</th>\n",
       "      <td>5.0</td>\n",
       "      <td>14.9</td>\n",
       "    </tr>\n",
       "    <tr>\n",
       "      <th>34</th>\n",
       "      <td>6.0</td>\n",
       "      <td>14.9</td>\n",
       "    </tr>\n",
       "    <tr>\n",
       "      <th>57</th>\n",
       "      <td>7.0</td>\n",
       "      <td>13.7</td>\n",
       "    </tr>\n",
       "    <tr>\n",
       "      <th>43</th>\n",
       "      <td>10.0</td>\n",
       "      <td>15.3</td>\n",
       "    </tr>\n",
       "    <tr>\n",
       "      <th>...</th>\n",
       "      <td>...</td>\n",
       "      <td>...</td>\n",
       "    </tr>\n",
       "    <tr>\n",
       "      <th>65</th>\n",
       "      <td>347.0</td>\n",
       "      <td>13.2</td>\n",
       "    </tr>\n",
       "    <tr>\n",
       "      <th>21</th>\n",
       "      <td>353.0</td>\n",
       "      <td>12.5</td>\n",
       "    </tr>\n",
       "    <tr>\n",
       "      <th>32</th>\n",
       "      <td>366.0</td>\n",
       "      <td>15.0</td>\n",
       "    </tr>\n",
       "    <tr>\n",
       "      <th>74</th>\n",
       "      <td>378.0</td>\n",
       "      <td>12.4</td>\n",
       "    </tr>\n",
       "    <tr>\n",
       "      <th>20</th>\n",
       "      <td>384.0</td>\n",
       "      <td>12.6</td>\n",
       "    </tr>\n",
       "  </tbody>\n",
       "</table>\n",
       "<p>78 rows × 2 columns</p>\n",
       "</div>"
      ],
      "text/plain": [
       "    X_test  y_pred\n",
       "35     1.0    13.2\n",
       "54     5.0    14.9\n",
       "34     6.0    14.9\n",
       "57     7.0    13.7\n",
       "43    10.0    15.3\n",
       "..     ...     ...\n",
       "65   347.0    13.2\n",
       "21   353.0    12.5\n",
       "32   366.0    15.0\n",
       "74   378.0    12.4\n",
       "20   384.0    12.6\n",
       "\n",
       "[78 rows x 2 columns]"
      ]
     },
     "execution_count": 32,
     "metadata": {},
     "output_type": "execute_result"
    }
   ],
   "source": [
    "# Ordenarlo ahora por el eje Y\n",
    "\n",
    "df_values = pd.DataFrame(values, columns=['X_test', 'y_pred']) # Convertimos los valores a un DataFrame\n",
    "df_values.sort_values(by=['X_test'], inplace=True) # Ordenamos los valores en un DataFrame\n",
    "df_values"
   ]
  },
  {
   "cell_type": "code",
   "execution_count": 33,
   "metadata": {},
   "outputs": [
    {
     "data": {
      "text/plain": [
       "<function matplotlib.pyplot.legend(*args, **kwargs)>"
      ]
     },
     "execution_count": 33,
     "metadata": {},
     "output_type": "execute_result"
    },
    {
     "data": {
      "image/png": "[encoded data removed]",
      "text/plain": [
       "<Figure size 432x288 with 1 Axes>"
      ]
     },
     "metadata": {
      "needs_background": "light"
     },
     "output_type": "display_data"
    }
   ],
   "source": [
    "plt.figure() # Objeto \n",
    "plt.scatter(X_test, y_test, alpha=0.5, color='green') # reales\n",
    "plt.scatter(X_test, y_pred, alpha=0.5, color='red') # predicción\n",
    "plt.plot(df_values['X_test'], df_values['y_pred'], alpha=0.5, color='red') # Para ver la línea (función) \n",
    "plt.xlabel('Día')\n",
    "plt.ylabel('Temperatura')\n",
    "plt.legend"
   ]
  },
  {
   "cell_type": "code",
   "execution_count": 34,
   "metadata": {},
   "outputs": [
    {
     "name": "stdout",
     "output_type": "stream",
     "text": [
      "1.4087179487179484\n"
     ]
    }
   ],
   "source": [
    "# Se puede ver que no es una línea contínua, tiene bastantes saltos, esto es lo que crea el modelo de árboles de decisión\n",
    "\n",
    "# Error cuadrático medio para el algoritmo supervisado\n",
    "\n",
    "from sklearn.metrics import mean_squared_error\n",
    "\n",
    "mse = mean_squared_error(y_true=y_test, y_pred=y_pred)\n",
    "print(mse) # El rango de posibilidad positivo y negativo, desde un punto de la predicción "
   ]
  }
 ],
 "metadata": {
  "kernelspec": {
   "display_name": "base",
   "language": "python",
   "name": "python3"
  },
  "language_info": {
   "codemirror_mode": {
    "name": "ipython",
    "version": 3
   },
   "file_extension": ".py",
   "mimetype": "text/x-python",
   "name": "python",
   "nbconvert_exporter": "python",
   "pygments_lexer": "ipython3",
   "version": "3.9.12"
  }
 },
 "nbformat": 4,
 "nbformat_minor": 2
}
