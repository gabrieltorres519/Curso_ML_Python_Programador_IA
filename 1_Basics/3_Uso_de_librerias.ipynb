{
 "cells": [
  {
   "cell_type": "markdown",
   "metadata": {},
   "source": [
    "# Formas de utilizar librerías en Python "
   ]
  },
  {
   "cell_type": "code",
   "execution_count": 1,
   "metadata": {},
   "outputs": [],
   "source": [
    "# Numpy (Trabajo con arreglos multidimencionales) y skLearn (modelos de machine learning en python para usarlos )\n",
    "\n",
    "import numpy"
   ]
  },
  {
   "cell_type": "code",
   "execution_count": 2,
   "metadata": {},
   "outputs": [
    {
     "data": {
      "text/plain": [
       "0.8814637096862666"
      ]
     },
     "execution_count": 2,
     "metadata": {},
     "output_type": "execute_result"
    }
   ],
   "source": [
    "# Nótese que segpun se importen los datos será necesario acceder a más o menos capas con el operador punto\n",
    "# En este caso está siendo necesario hacer:\n",
    "\n",
    "numpy.random.random()\n"
   ]
  },
  {
   "cell_type": "code",
   "execution_count": 3,
   "metadata": {},
   "outputs": [
    {
     "data": {
      "text/plain": [
       "0.028228434748394315"
      ]
     },
     "execution_count": 3,
     "metadata": {},
     "output_type": "execute_result"
    }
   ],
   "source": [
    "# Podemos también agregar un alias a la librería y usarla con ese nombre en el resto del código \n",
    "\n",
    "import numpy as np \n",
    "\n",
    "np.random.random()"
   ]
  },
  {
   "cell_type": "code",
   "execution_count": 5,
   "metadata": {},
   "outputs": [
    {
     "data": {
      "text/plain": [
       "0.08611318143314972"
      ]
     },
     "execution_count": 5,
     "metadata": {},
     "output_type": "execute_result"
    }
   ],
   "source": [
    "# Se puede optar también por importar un paquete de la librería y ponerle un alias (opcional)\n",
    "\n",
    "import numpy.random as rd\n",
    "\n",
    "rd.random()\n",
    "\n",
    "# Aquí podemos notar que la estructura es libreria.paquete.funcion()\n"
   ]
  },
  {
   "cell_type": "code",
   "execution_count": 6,
   "metadata": {},
   "outputs": [
    {
     "data": {
      "text/plain": [
       "0.399571990442785"
      ]
     },
     "execution_count": 6,
     "metadata": {},
     "output_type": "execute_result"
    }
   ],
   "source": [
    "# Si lo que queremos es en el código llamar directamente a la función específica que necesitamos,\n",
    "# dado que no necesitamos nada más de la librería que esa función:\n",
    "\n",
    "from numpy.random import random\n",
    " \n",
    "random()\n",
    "\n",
    "# Nótese que la estructra es import librería.paquete import función_que_quiero"
   ]
  }
 ],
 "metadata": {
  "kernelspec": {
   "display_name": "base",
   "language": "python",
   "name": "python3"
  },
  "language_info": {
   "codemirror_mode": {
    "name": "ipython",
    "version": 3
   },
   "file_extension": ".py",
   "mimetype": "text/x-python",
   "name": "python",
   "nbconvert_exporter": "python",
   "pygments_lexer": "ipython3",
   "version": "3.9.12"
  }
 },
 "nbformat": 4,
 "nbformat_minor": 2
}
