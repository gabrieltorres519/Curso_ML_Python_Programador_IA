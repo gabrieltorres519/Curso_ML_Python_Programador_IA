{
 "cells": [
  {
   "cell_type": "markdown",
   "metadata": {},
   "source": [
    "# Funciones"
   ]
  },
  {
   "cell_type": "code",
   "execution_count": 3,
   "metadata": {},
   "outputs": [],
   "source": [
    "def funcion_sin_parametros_void():\n",
    "    print('Hola Mundo')"
   ]
  },
  {
   "cell_type": "code",
   "execution_count": 4,
   "metadata": {},
   "outputs": [
    {
     "name": "stdout",
     "output_type": "stream",
     "text": [
      "Hola Mundo\n"
     ]
    }
   ],
   "source": [
    "funcion_sin_parametros_void()"
   ]
  },
  {
   "cell_type": "code",
   "execution_count": 5,
   "metadata": {},
   "outputs": [],
   "source": [
    "def suma_dos_enteros(a,b):\n",
    "    return a + b"
   ]
  },
  {
   "cell_type": "code",
   "execution_count": 6,
   "metadata": {},
   "outputs": [
    {
     "data": {
      "text/plain": [
       "15"
      ]
     },
     "execution_count": 6,
     "metadata": {},
     "output_type": "execute_result"
    }
   ],
   "source": [
    "suma_dos_enteros(10,5)"
   ]
  },
  {
   "cell_type": "code",
   "execution_count": 8,
   "metadata": {},
   "outputs": [
    {
     "data": {
      "text/plain": [
       "'105'"
      ]
     },
     "execution_count": 8,
     "metadata": {},
     "output_type": "execute_result"
    }
   ],
   "source": [
    "# La suma concatena strings al igual que con Javascript \n",
    "suma_dos_enteros(\"10\",\"5\")"
   ]
  },
  {
   "cell_type": "code",
   "execution_count": 9,
   "metadata": {},
   "outputs": [
    {
     "ename": "TypeError",
     "evalue": "unsupported operand type(s) for +: 'int' and 'str'",
     "output_type": "error",
     "traceback": [
      "\u001b[1;31m---------------------------------------------------------------------------\u001b[0m",
      "\u001b[1;31mTypeError\u001b[0m                                 Traceback (most recent call last)",
      "\u001b[1;32mc:\\Users\\Inspiron 7568\\Documents\\noveno_semestre\\SICAP\\My_Python_Learning\\Basics\\2_Funciones.ipynb Cell 7\u001b[0m line \u001b[0;36m<cell line: 2>\u001b[1;34m()\u001b[0m\n\u001b[0;32m      <a href='vscode-notebook-cell:/c%3A/Users/Inspiron%207568/Documents/noveno_semestre/SICAP/My_Python_Learning/Basics/2_Funciones.ipynb#W6sZmlsZQ%3D%3D?line=0'>1</a>\u001b[0m \u001b[39m# A diferencia de Javascript, Python no concatena si hay strings con otros datos, da error\u001b[39;00m\n\u001b[1;32m----> <a href='vscode-notebook-cell:/c%3A/Users/Inspiron%207568/Documents/noveno_semestre/SICAP/My_Python_Learning/Basics/2_Funciones.ipynb#W6sZmlsZQ%3D%3D?line=1'>2</a>\u001b[0m suma_dos_enteros(\u001b[39m10\u001b[39;49m,\u001b[39m\"\u001b[39;49m\u001b[39m5\u001b[39;49m\u001b[39m\"\u001b[39;49m)\n",
      "\u001b[1;32mc:\\Users\\Inspiron 7568\\Documents\\noveno_semestre\\SICAP\\My_Python_Learning\\Basics\\2_Funciones.ipynb Cell 7\u001b[0m line \u001b[0;36msuma_dos_enteros\u001b[1;34m(a, b)\u001b[0m\n\u001b[0;32m      <a href='vscode-notebook-cell:/c%3A/Users/Inspiron%207568/Documents/noveno_semestre/SICAP/My_Python_Learning/Basics/2_Funciones.ipynb#W6sZmlsZQ%3D%3D?line=0'>1</a>\u001b[0m \u001b[39mdef\u001b[39;00m \u001b[39msuma_dos_enteros\u001b[39m(a,b):\n\u001b[1;32m----> <a href='vscode-notebook-cell:/c%3A/Users/Inspiron%207568/Documents/noveno_semestre/SICAP/My_Python_Learning/Basics/2_Funciones.ipynb#W6sZmlsZQ%3D%3D?line=1'>2</a>\u001b[0m     \u001b[39mreturn\u001b[39;00m a \u001b[39m+\u001b[39;49m b\n",
      "\u001b[1;31mTypeError\u001b[0m: unsupported operand type(s) for +: 'int' and 'str'"
     ]
    }
   ],
   "source": [
    "# A diferencia de Javascript, Python no concatena si hay strings con otros datos, da error\n",
    "suma_dos_enteros(10,\"5\")"
   ]
  },
  {
   "cell_type": "code",
   "execution_count": 10,
   "metadata": {},
   "outputs": [
    {
     "data": {
      "text/plain": [
       "15"
      ]
     },
     "execution_count": 10,
     "metadata": {},
     "output_type": "execute_result"
    }
   ],
   "source": [
    "resultado = suma_dos_enteros(10,5)\n",
    "resultado"
   ]
  },
  {
   "cell_type": "markdown",
   "metadata": {},
   "source": [
    "# Funciones Lambda"
   ]
  },
  {
   "cell_type": "code",
   "execution_count": 11,
   "metadata": {},
   "outputs": [
    {
     "data": {
      "text/plain": [
       "[1, 2, 3, 4, 5, 6, 7, 8, 9]"
      ]
     },
     "execution_count": 11,
     "metadata": {},
     "output_type": "execute_result"
    }
   ],
   "source": [
    "# Lista que trabajaremos \n",
    "lista = [1,2,3,4,5,6,7,8,9]\n",
    "lista"
   ]
  },
  {
   "cell_type": "code",
   "execution_count": 12,
   "metadata": {},
   "outputs": [],
   "source": [
    "# Función con lo que queremos hacerle a la lista\n",
    "\n",
    "def multiplicar_por_dos(valor): \n",
    "    return valor*2"
   ]
  },
  {
   "cell_type": "code",
   "execution_count": 13,
   "metadata": {},
   "outputs": [
    {
     "data": {
      "text/plain": [
       "[2, 4, 6, 8, 10, 12, 14, 16, 18]"
      ]
     },
     "execution_count": 13,
     "metadata": {},
     "output_type": "execute_result"
    }
   ],
   "source": [
    "# Ejemplo de aplicación de la función a la lista sin función lambda\n",
    "nueva_lista = []\n",
    "for valor in lista:\n",
    "    nueva_lista.append(multiplicar_por_dos(valor))\n",
    "nueva_lista"
   ]
  },
  {
   "cell_type": "code",
   "execution_count": 14,
   "metadata": {},
   "outputs": [
    {
     "data": {
      "text/plain": [
       "[2, 4, 6, 8, 10, 12, 14, 16, 18]"
      ]
     },
     "execution_count": 14,
     "metadata": {},
     "output_type": "execute_result"
    }
   ],
   "source": [
    "# Ejemplo de aplicación de la función a la lista con el objeto list()\n",
    "\n",
    "# Ccreamos una lista con el objeto nativo de python list()\n",
    "# lo que nos permite usar map(), el cuál recibe dos argumentos\n",
    "# 1) Función que hará los procesos que queramos sobre la lista\n",
    "# 2) Lista de elementos \n",
    "\n",
    "nueva_lista2 = list(map(multiplicar_por_dos, lista))\n",
    "nueva_lista2"
   ]
  },
  {
   "cell_type": "code",
   "execution_count": 16,
   "metadata": {},
   "outputs": [
    {
     "data": {
      "text/plain": [
       "[2, 4, 6, 8, 10, 12, 14, 16, 18]"
      ]
     },
     "execution_count": 16,
     "metadata": {},
     "output_type": "execute_result"
    }
   ],
   "source": [
    "# Ejemplo de aplicación de la función a la lista con el objeto list y una función anónima o lambda\n",
    "\n",
    "# Dado que el proceso que queremos hacer es solamente multiplicar por dos, ya no usaremos la función \n",
    "# que definimos, haremos todo en una misma línea con una función lambda\n",
    "\n",
    "# map(lambda lista_salida: operación_sencilla, lista_original)\n",
    "\n",
    "nueva_lista3 = list(map(lambda x: x * 2, lista))\n",
    "nueva_lista3"
   ]
  }
 ],
 "metadata": {
  "kernelspec": {
   "display_name": "base",
   "language": "python",
   "name": "python3"
  },
  "language_info": {
   "codemirror_mode": {
    "name": "ipython",
    "version": 3
   },
   "file_extension": ".py",
   "mimetype": "text/x-python",
   "name": "python",
   "nbconvert_exporter": "python",
   "pygments_lexer": "ipython3",
   "version": "3.9.12"
  }
 },
 "nbformat": 4,
 "nbformat_minor": 2
}
