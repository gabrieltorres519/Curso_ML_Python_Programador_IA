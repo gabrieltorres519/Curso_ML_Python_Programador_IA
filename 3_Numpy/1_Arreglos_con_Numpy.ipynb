{
 "cells": [
  {
   "cell_type": "markdown",
   "metadata": {},
   "source": [
    "# NumPy"
   ]
  },
  {
   "cell_type": "markdown",
   "metadata": {},
   "source": [
    "Numpy es una librería que ofrece arreglos multidimencionales con los que podemos ejecutar operaciones de tipo matemático, lógicas, ordenamiento, etc. La ventaja es que estas operaciones matriciales se realizan a gran velocidad (es como tener un MatLab dentro de python). Es muy rápido porque realiza una precompilación en C, por esa razón es una librería muy utilizada en Ciencia de Datos e Inteligencia Artificial.   "
   ]
  },
  {
   "cell_type": "code",
   "execution_count": 1,
   "metadata": {},
   "outputs": [],
   "source": [
    "import numpy as np"
   ]
  },
  {
   "cell_type": "markdown",
   "metadata": {},
   "source": [
    "### Creando arreglos Array "
   ]
  },
  {
   "cell_type": "code",
   "execution_count": 4,
   "metadata": {},
   "outputs": [
    {
     "data": {
      "text/plain": [
       "(array([1, 2, 3]), numpy.ndarray)"
      ]
     },
     "execution_count": 4,
     "metadata": {},
     "output_type": "execute_result"
    }
   ],
   "source": [
    "# Creando un array de numpy (sustituye a la lista de python y a la serie de Pandas)\n",
    "arreglo1d = np.array([1,2,3])\n",
    "arreglo1d, type(arreglo1d)"
   ]
  },
  {
   "cell_type": "code",
   "execution_count": 6,
   "metadata": {},
   "outputs": [
    {
     "data": {
      "text/plain": [
       "(array([[1. , 2. , 3. ],\n",
       "        [0.5, 0.6, 0.9]]),\n",
       " numpy.ndarray)"
      ]
     },
     "execution_count": 6,
     "metadata": {},
     "output_type": "execute_result"
    }
   ],
   "source": [
    "# Creando una matriz de numpy (sustituye a la lista de listas de python, pero no al DataFrame de Pandas, pues éste maneja nombres de columnas)\n",
    "array2d = np.array([[1,2,3],\n",
    "                    [0.5,0.6,0.9]])\n",
    "array2d, type(array2d)"
   ]
  },
  {
   "cell_type": "code",
   "execution_count": 7,
   "metadata": {},
   "outputs": [
    {
     "data": {
      "text/plain": [
       "(array([[[1, 2, 3],\n",
       "         [4, 5, 6]],\n",
       " \n",
       "        [[1, 2, 3],\n",
       "         [4, 5, 6]]]),\n",
       " (2, 2, 3))"
      ]
     },
     "execution_count": 7,
     "metadata": {},
     "output_type": "execute_result"
    }
   ],
   "source": [
    "# Array de 3 dimenciones (observe que se trata de un arreglo de arreglos (matriz), en el que cada elemento \n",
    "# individual de la matriz en si mismo contiene más arrays)\n",
    "# Si lo analizamos como si se tratara de un objeto 3D con shape encontraremos (filas,columnas,anchura)\n",
    "\n",
    "array3d = np.array([[[1,2,3],\n",
    "                     [4,5,6]],\n",
    "                     [[1,2,3],\n",
    "                     [4,5,6]]])\n",
    "\n",
    "array3d, array3d.shape"
   ]
  },
  {
   "cell_type": "code",
   "execution_count": 8,
   "metadata": {},
   "outputs": [
    {
     "data": {
      "text/plain": [
       "((3,), (2, 3), (2, 2, 3))"
      ]
     },
     "execution_count": 8,
     "metadata": {},
     "output_type": "execute_result"
    }
   ],
   "source": [
    "# Observando la forma de los arreglos creados.\n",
    "\n",
    "arreglo1d.shape, array2d.shape, array3d.shape\n"
   ]
  },
  {
   "cell_type": "code",
   "execution_count": 9,
   "metadata": {},
   "outputs": [
    {
     "data": {
      "text/plain": [
       "(1, 2, 3)"
      ]
     },
     "execution_count": 9,
     "metadata": {},
     "output_type": "execute_result"
    }
   ],
   "source": [
    "# Para saber el número de dimensiones de los arreglos \n",
    "\n",
    "arreglo1d.ndim, array2d.ndim, array3d.ndim"
   ]
  },
  {
   "cell_type": "code",
   "execution_count": 13,
   "metadata": {},
   "outputs": [
    {
     "data": {
      "text/plain": [
       "array([[1., 1., 1., 1., 1., 1., 1.],\n",
       "       [1., 1., 1., 1., 1., 1., 1.],\n",
       "       [1., 1., 1., 1., 1., 1., 1.]])"
      ]
     },
     "execution_count": 13,
     "metadata": {},
     "output_type": "execute_result"
    }
   ],
   "source": [
    "# Arreglo con solo unos con np.ones((filas,columnas)) \n",
    "array_unos = np.ones((3,7))\n",
    "array_unos"
   ]
  },
  {
   "cell_type": "code",
   "execution_count": 14,
   "metadata": {},
   "outputs": [
    {
     "data": {
      "text/plain": [
       "array([[0., 0., 0., 0., 0., 0., 0.],\n",
       "       [0., 0., 0., 0., 0., 0., 0.],\n",
       "       [0., 0., 0., 0., 0., 0., 0.]])"
      ]
     },
     "execution_count": 14,
     "metadata": {},
     "output_type": "execute_result"
    }
   ],
   "source": [
    "# Arreglo con solo unos con np.ones((filas,columnas)) \n",
    "array_ceros = np.zeros((3,7))\n",
    "array_ceros"
   ]
  },
  {
   "cell_type": "code",
   "execution_count": 17,
   "metadata": {},
   "outputs": [
    {
     "data": {
      "text/plain": [
       "array([0, 2, 4, 6, 8])"
      ]
     },
     "execution_count": 17,
     "metadata": {},
     "output_type": "execute_result"
    }
   ],
   "source": [
    "# Arreglo con valores en un rango dado y especificando el salto \n",
    "array_rango = np.arange(0,10,2)\n",
    "array_rango"
   ]
  },
  {
   "cell_type": "code",
   "execution_count": 18,
   "metadata": {},
   "outputs": [
    {
     "data": {
      "text/plain": [
       "array([[5, 6, 3, 4, 0, 8, 1],\n",
       "       [0, 1, 3, 0, 0, 0, 9],\n",
       "       [4, 7, 8, 2, 9, 3, 1]])"
      ]
     },
     "execution_count": 18,
     "metadata": {},
     "output_type": "execute_result"
    }
   ],
   "source": [
    "# Array con valores random en un rango dado y especificando las dimenciones del arreglo\n",
    "array_random = np.random.randint(0,10, size=(3,7))\n",
    "array_random"
   ]
  },
  {
   "cell_type": "code",
   "execution_count": 27,
   "metadata": {},
   "outputs": [
    {
     "data": {
      "text/plain": [
       "array([[0.6976312 , 0.06022547, 0.66676672, 0.67063787, 0.21038256,\n",
       "        0.1289263 , 0.31542835],\n",
       "       [0.36371077, 0.57019677, 0.43860151, 0.98837384, 0.10204481,\n",
       "        0.20887676, 0.16130952],\n",
       "       [0.65310833, 0.2532916 , 0.46631077, 0.24442559, 0.15896958,\n",
       "        0.11037514, 0.65632959]])"
      ]
     },
     "execution_count": 27,
     "metadata": {},
     "output_type": "execute_result"
    }
   ],
   "source": [
    "# Otra forma de crear array con valores random de 0 a 1 y especificando las dimenciones del arreglo\n",
    "array_random = np.random.random(size=(3,7))\n",
    "array_random # Los valores serán diferentes en cada ejecución"
   ]
  },
  {
   "cell_type": "code",
   "execution_count": 25,
   "metadata": {},
   "outputs": [
    {
     "data": {
      "text/plain": [
       "array([[0.5488135 , 0.71518937, 0.60276338, 0.54488318, 0.4236548 ,\n",
       "        0.64589411, 0.43758721],\n",
       "       [0.891773  , 0.96366276, 0.38344152, 0.79172504, 0.52889492,\n",
       "        0.56804456, 0.92559664],\n",
       "       [0.07103606, 0.0871293 , 0.0202184 , 0.83261985, 0.77815675,\n",
       "        0.87001215, 0.97861834]])"
      ]
     },
     "execution_count": 25,
     "metadata": {},
     "output_type": "execute_result"
    }
   ],
   "source": [
    "# Array con valores random según una semilla dada, serán random solo en la primera ejecución, luego serán los mismos\n",
    "np.random.seed(0) # Los randoms que se crearán dentro de la celda tendrán relación a la semilla\n",
    "array_random4 = np.random.random(size=(3,7))\n",
    "array_random4"
   ]
  },
  {
   "cell_type": "markdown",
   "metadata": {},
   "source": [
    "### Operaciones con arreglos (array)"
   ]
  },
  {
   "cell_type": "code",
   "execution_count": 34,
   "metadata": {},
   "outputs": [
    {
     "data": {
      "text/plain": [
       "(array([[5, 0],\n",
       "        [3, 3]]),\n",
       " (2, 2))"
      ]
     },
     "execution_count": 34,
     "metadata": {},
     "output_type": "execute_result"
    }
   ],
   "source": [
    "# Creamos una matriz 2x2 de números aleatorios con una semilla \n",
    "np.random.seed(0)\n",
    "array1 = np.random.randint(0,10,size=(2,2))\n",
    "array1, array1.shape "
   ]
  },
  {
   "cell_type": "code",
   "execution_count": 33,
   "metadata": {},
   "outputs": [
    {
     "data": {
      "text/plain": [
       "(array([[8, 9],\n",
       "        [3, 8]]),\n",
       " (2, 2))"
      ]
     },
     "execution_count": 33,
     "metadata": {},
     "output_type": "execute_result"
    }
   ],
   "source": [
    "# Creamos otra matriz 2x2 de números aleatorios con una semilla  \n",
    "np.random.seed(3)\n",
    "array2 = np.random.randint(0,10,size=(2,2))\n",
    "array2, array1.shape "
   ]
  },
  {
   "cell_type": "code",
   "execution_count": 35,
   "metadata": {},
   "outputs": [
    {
     "data": {
      "text/plain": [
       "array([[13,  9],\n",
       "       [ 6, 11]])"
      ]
     },
     "execution_count": 35,
     "metadata": {},
     "output_type": "execute_result"
    }
   ],
   "source": [
    "array3 = array1 + array2\n",
    "\n",
    "array3 # Se trata de la suma posición a posición llamada broadcasting "
   ]
  },
  {
   "cell_type": "code",
   "execution_count": 32,
   "metadata": {},
   "outputs": [
    {
     "data": {
      "text/plain": [
       "array([[[3, 6, 6],\n",
       "        [0, 9, 8]],\n",
       "\n",
       "       [[4, 7, 0],\n",
       "        [0, 7, 1]]])"
      ]
     },
     "execution_count": 32,
     "metadata": {},
     "output_type": "execute_result"
    }
   ],
   "source": [
    "# Creamos un arreglo con datos random y tridimencional \n",
    "np.random.seed(5)\n",
    "\n",
    "array4 = np.random.randint(0,10,size=(2,2,3))\n",
    "\n",
    "array4"
   ]
  },
  {
   "cell_type": "code",
   "execution_count": 36,
   "metadata": {},
   "outputs": [
    {
     "ename": "ValueError",
     "evalue": "operands could not be broadcast together with shapes (2,2) (2,2,3) ",
     "output_type": "error",
     "traceback": [
      "\u001b[1;31m---------------------------------------------------------------------------\u001b[0m",
      "\u001b[1;31mValueError\u001b[0m                                Traceback (most recent call last)",
      "\u001b[1;32mc:\\Users\\Inspiron 7568\\Documents\\noveno_semestre\\SICAP\\My_Python_Learning\\3_Numpy\\1_Arreglos_con_Numpy.ipynb Cell 21\u001b[0m line \u001b[0;36m<cell line: 3>\u001b[1;34m()\u001b[0m\n\u001b[0;32m      <a href='vscode-notebook-cell:/c%3A/Users/Inspiron%207568/Documents/noveno_semestre/SICAP/My_Python_Learning/3_Numpy/1_Arreglos_con_Numpy.ipynb#X30sZmlsZQ%3D%3D?line=0'>1</a>\u001b[0m \u001b[39m# Tratamos de multiplicar los array \u001b[39;00m\n\u001b[1;32m----> <a href='vscode-notebook-cell:/c%3A/Users/Inspiron%207568/Documents/noveno_semestre/SICAP/My_Python_Learning/3_Numpy/1_Arreglos_con_Numpy.ipynb#X30sZmlsZQ%3D%3D?line=2'>3</a>\u001b[0m array5 \u001b[39m=\u001b[39m array2 \u001b[39m+\u001b[39;49m array4\n\u001b[0;32m      <a href='vscode-notebook-cell:/c%3A/Users/Inspiron%207568/Documents/noveno_semestre/SICAP/My_Python_Learning/3_Numpy/1_Arreglos_con_Numpy.ipynb#X30sZmlsZQ%3D%3D?line=4'>5</a>\u001b[0m array5\n",
      "\u001b[1;31mValueError\u001b[0m: operands could not be broadcast together with shapes (2,2) (2,2,3) "
     ]
    }
   ],
   "source": [
    "# Tratamos de multiplicar los array y veremos un error pues necesitan tener las mismas dimenciones\n",
    "# pero esto se puede arreglar \n",
    "\n",
    "array5 = array2 + array4\n",
    "\n",
    "array5"
   ]
  },
  {
   "cell_type": "code",
   "execution_count": null,
   "metadata": {},
   "outputs": [],
   "source": [
    "# Verificamos las dimenciones del array \n",
    "\n",
    "array2.shape"
   ]
  }
 ],
 "metadata": {
  "kernelspec": {
   "display_name": "base",
   "language": "python",
   "name": "python3"
  },
  "language_info": {
   "codemirror_mode": {
    "name": "ipython",
    "version": 3
   },
   "file_extension": ".py",
   "mimetype": "text/x-python",
   "name": "python",
   "nbconvert_exporter": "python",
   "pygments_lexer": "ipython3",
   "version": "3.9.12"
  }
 },
 "nbformat": 4,
 "nbformat_minor": 2
}
