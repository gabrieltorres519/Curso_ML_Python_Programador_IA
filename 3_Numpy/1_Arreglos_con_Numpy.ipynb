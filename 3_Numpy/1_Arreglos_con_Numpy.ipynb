{
 "cells": [
  {
   "cell_type": "markdown",
   "metadata": {},
   "source": [
    "# NumPy"
   ]
  },
  {
   "cell_type": "markdown",
   "metadata": {},
   "source": [
    "Numpy es una librería que ofrece arreglos multidimencionales con los que podemos ejecutar operaciones de tipo matemático, lógicas, ordenamiento, etc. La ventaja es que estas operaciones matriciales se realizan a gran velocidad (es como tener un MatLab dentro de python). Es muy rápido porque realiza una precompilación en C, por esa razón es una librería muy utilizada en Ciencia de Datos e Inteligencia Artificial.   "
   ]
  },
  {
   "cell_type": "code",
   "execution_count": 2,
   "metadata": {},
   "outputs": [],
   "source": [
    "import numpy as np"
   ]
  },
  {
   "cell_type": "markdown",
   "metadata": {},
   "source": [
    "### Creando arreglos Array "
   ]
  },
  {
   "cell_type": "code",
   "execution_count": 3,
   "metadata": {},
   "outputs": [
    {
     "data": {
      "text/plain": [
       "(array([1, 2, 3]), numpy.ndarray)"
      ]
     },
     "execution_count": 3,
     "metadata": {},
     "output_type": "execute_result"
    }
   ],
   "source": [
    "# Creando un array de numpy (sustituye a la lista de python y a la serie de Pandas)\n",
    "arreglo1d = np.array([1,2,3])\n",
    "arreglo1d, type(arreglo1d)"
   ]
  },
  {
   "cell_type": "code",
   "execution_count": 4,
   "metadata": {},
   "outputs": [
    {
     "data": {
      "text/plain": [
       "(array([[1. , 2. , 3. ],\n",
       "        [0.5, 0.6, 0.9]]),\n",
       " numpy.ndarray)"
      ]
     },
     "execution_count": 4,
     "metadata": {},
     "output_type": "execute_result"
    }
   ],
   "source": [
    "# Creando una matriz de numpy (sustituye a la lista de listas de python, pero no al DataFrame de Pandas, pues éste maneja nombres de columnas)\n",
    "array2d = np.array([[1,2,3],\n",
    "                    [0.5,0.6,0.9]])\n",
    "array2d, type(array2d)"
   ]
  },
  {
   "cell_type": "code",
   "execution_count": 5,
   "metadata": {},
   "outputs": [
    {
     "data": {
      "text/plain": [
       "(array([[[1, 2, 3],\n",
       "         [4, 5, 6]],\n",
       " \n",
       "        [[1, 2, 3],\n",
       "         [4, 5, 6]]]),\n",
       " (2, 2, 3))"
      ]
     },
     "execution_count": 5,
     "metadata": {},
     "output_type": "execute_result"
    }
   ],
   "source": [
    "# Array de 3 dimenciones (observe que se trata de un arreglo de arreglos (matriz), en el que cada elemento \n",
    "# individual de la matriz en si mismo contiene más arrays)\n",
    "# Si lo analizamos como si se tratara de un objeto 3D con shape encontraremos (filas,columnas,anchura)\n",
    "\n",
    "array3d = np.array([[[1,2,3],\n",
    "                     [4,5,6]],\n",
    "                     [[1,2,3],\n",
    "                     [4,5,6]]])\n",
    "\n",
    "array3d, array3d.shape"
   ]
  },
  {
   "cell_type": "code",
   "execution_count": 6,
   "metadata": {},
   "outputs": [
    {
     "data": {
      "text/plain": [
       "((3,), (2, 3), (2, 2, 3))"
      ]
     },
     "execution_count": 6,
     "metadata": {},
     "output_type": "execute_result"
    }
   ],
   "source": [
    "# Observando la forma de los arreglos creados.\n",
    "\n",
    "arreglo1d.shape, array2d.shape, array3d.shape\n"
   ]
  },
  {
   "cell_type": "code",
   "execution_count": 7,
   "metadata": {},
   "outputs": [
    {
     "data": {
      "text/plain": [
       "(1, 2, 3)"
      ]
     },
     "execution_count": 7,
     "metadata": {},
     "output_type": "execute_result"
    }
   ],
   "source": [
    "# Para saber el número de dimensiones de los arreglos \n",
    "\n",
    "arreglo1d.ndim, array2d.ndim, array3d.ndim"
   ]
  },
  {
   "cell_type": "code",
   "execution_count": 8,
   "metadata": {},
   "outputs": [
    {
     "data": {
      "text/plain": [
       "array([[1., 1., 1., 1., 1., 1., 1.],\n",
       "       [1., 1., 1., 1., 1., 1., 1.],\n",
       "       [1., 1., 1., 1., 1., 1., 1.]])"
      ]
     },
     "execution_count": 8,
     "metadata": {},
     "output_type": "execute_result"
    }
   ],
   "source": [
    "# Arreglo con solo unos con np.ones((filas,columnas)) \n",
    "array_unos = np.ones((3,7))\n",
    "array_unos"
   ]
  },
  {
   "cell_type": "code",
   "execution_count": 9,
   "metadata": {},
   "outputs": [
    {
     "data": {
      "text/plain": [
       "array([[0., 0., 0., 0., 0., 0., 0.],\n",
       "       [0., 0., 0., 0., 0., 0., 0.],\n",
       "       [0., 0., 0., 0., 0., 0., 0.]])"
      ]
     },
     "execution_count": 9,
     "metadata": {},
     "output_type": "execute_result"
    }
   ],
   "source": [
    "# Arreglo con solo unos con np.ones((filas,columnas)) \n",
    "array_ceros = np.zeros((3,7))\n",
    "array_ceros"
   ]
  },
  {
   "cell_type": "code",
   "execution_count": 10,
   "metadata": {},
   "outputs": [
    {
     "data": {
      "text/plain": [
       "array([0, 2, 4, 6, 8])"
      ]
     },
     "execution_count": 10,
     "metadata": {},
     "output_type": "execute_result"
    }
   ],
   "source": [
    "# Arreglo con valores en un rango dado y especificando el salto \n",
    "array_rango = np.arange(0,10,2)\n",
    "array_rango"
   ]
  },
  {
   "cell_type": "code",
   "execution_count": 11,
   "metadata": {},
   "outputs": [
    {
     "data": {
      "text/plain": [
       "array([[7, 0, 9, 5, 3, 2, 2],\n",
       "       [5, 3, 9, 7, 3, 5, 4],\n",
       "       [3, 4, 8, 8, 9, 6, 1]])"
      ]
     },
     "execution_count": 11,
     "metadata": {},
     "output_type": "execute_result"
    }
   ],
   "source": [
    "# Array con valores random en un rango dado y especificando las dimenciones del arreglo\n",
    "array_random = np.random.randint(0,10, size=(3,7))\n",
    "array_random"
   ]
  },
  {
   "cell_type": "code",
   "execution_count": 12,
   "metadata": {},
   "outputs": [
    {
     "data": {
      "text/plain": [
       "array([[0.23907848, 0.99525786, 0.32991562, 0.72674112, 0.49421737,\n",
       "        0.75338548, 0.23175262],\n",
       "       [0.15964711, 0.6026324 , 0.66671351, 0.26397923, 0.76710678,\n",
       "        0.89560104, 0.85350303],\n",
       "       [0.06893317, 0.34185102, 0.52898257, 0.8792443 , 0.71414762,\n",
       "        0.71846336, 0.67401415]])"
      ]
     },
     "execution_count": 12,
     "metadata": {},
     "output_type": "execute_result"
    }
   ],
   "source": [
    "# Otra forma de crear array con valores random de 0 a 1 y especificando las dimenciones del arreglo\n",
    "array_random = np.random.random(size=(3,7))\n",
    "array_random # Los valores serán diferentes en cada ejecución"
   ]
  },
  {
   "cell_type": "code",
   "execution_count": 13,
   "metadata": {},
   "outputs": [
    {
     "data": {
      "text/plain": [
       "array([[0.5488135 , 0.71518937, 0.60276338, 0.54488318, 0.4236548 ,\n",
       "        0.64589411, 0.43758721],\n",
       "       [0.891773  , 0.96366276, 0.38344152, 0.79172504, 0.52889492,\n",
       "        0.56804456, 0.92559664],\n",
       "       [0.07103606, 0.0871293 , 0.0202184 , 0.83261985, 0.77815675,\n",
       "        0.87001215, 0.97861834]])"
      ]
     },
     "execution_count": 13,
     "metadata": {},
     "output_type": "execute_result"
    }
   ],
   "source": [
    "# Array con valores random según una semilla dada, serán random solo en la primera ejecución, luego serán los mismos\n",
    "np.random.seed(0) # Los randoms que se crearán dentro de la celda tendrán relación a la semilla\n",
    "array_random4 = np.random.random(size=(3,7))\n",
    "array_random4"
   ]
  },
  {
   "cell_type": "markdown",
   "metadata": {},
   "source": [
    "### Operaciones con arreglos (array)"
   ]
  },
  {
   "cell_type": "code",
   "execution_count": 14,
   "metadata": {},
   "outputs": [
    {
     "data": {
      "text/plain": [
       "(array([[5, 0],\n",
       "        [3, 3]]),\n",
       " (2, 2))"
      ]
     },
     "execution_count": 14,
     "metadata": {},
     "output_type": "execute_result"
    }
   ],
   "source": [
    "# Creamos una matriz 2x2 de números aleatorios con una semilla \n",
    "np.random.seed(0)\n",
    "array1 = np.random.randint(0,10,size=(2,2))\n",
    "array1, array1.shape "
   ]
  },
  {
   "cell_type": "code",
   "execution_count": 15,
   "metadata": {},
   "outputs": [
    {
     "data": {
      "text/plain": [
       "(array([[8, 9],\n",
       "        [3, 8]]),\n",
       " (2, 2))"
      ]
     },
     "execution_count": 15,
     "metadata": {},
     "output_type": "execute_result"
    }
   ],
   "source": [
    "# Creamos otra matriz 2x2 de números aleatorios con una semilla  \n",
    "np.random.seed(3)\n",
    "array2 = np.random.randint(0,10,size=(2,2))\n",
    "array2, array1.shape "
   ]
  },
  {
   "cell_type": "code",
   "execution_count": 16,
   "metadata": {},
   "outputs": [
    {
     "data": {
      "text/plain": [
       "array([[13,  9],\n",
       "       [ 6, 11]])"
      ]
     },
     "execution_count": 16,
     "metadata": {},
     "output_type": "execute_result"
    }
   ],
   "source": [
    "array3 = array1 + array2\n",
    "\n",
    "array3 # Se trata de la suma posición a posición llamada broadcasting "
   ]
  },
  {
   "cell_type": "code",
   "execution_count": 17,
   "metadata": {},
   "outputs": [
    {
     "data": {
      "text/plain": [
       "array([[[3, 6, 6],\n",
       "        [0, 9, 8]],\n",
       "\n",
       "       [[4, 7, 0],\n",
       "        [0, 7, 1]]])"
      ]
     },
     "execution_count": 17,
     "metadata": {},
     "output_type": "execute_result"
    }
   ],
   "source": [
    "# Creamos un arreglo con datos random y tridimencional \n",
    "np.random.seed(5)\n",
    "\n",
    "array4 = np.random.randint(0,10,size=(2,2,3))\n",
    "\n",
    "array4"
   ]
  },
  {
   "cell_type": "code",
   "execution_count": 21,
   "metadata": {},
   "outputs": [
    {
     "ename": "ValueError",
     "evalue": "operands could not be broadcast together with shapes (2,2) (2,2,3) ",
     "output_type": "error",
     "traceback": [
      "\u001b[1;31m---------------------------------------------------------------------------\u001b[0m",
      "\u001b[1;31mValueError\u001b[0m                                Traceback (most recent call last)",
      "\u001b[1;32mc:\\Users\\Inspiron 7568\\Documents\\noveno_semestre\\SICAP\\My_Python_Learning\\3_Numpy\\1_Arreglos_con_Numpy.ipynb Cell 21\u001b[0m line \u001b[0;36m<cell line: 4>\u001b[1;34m()\u001b[0m\n\u001b[0;32m      <a href='vscode-notebook-cell:/c%3A/Users/Inspiron%207568/Documents/noveno_semestre/SICAP/My_Python_Learning/3_Numpy/1_Arreglos_con_Numpy.ipynb#X26sZmlsZQ%3D%3D?line=0'>1</a>\u001b[0m \u001b[39m# Tratamos de multiplicar los array y veremos un error pues necesitan tener las mismas dimenciones\u001b[39;00m\n\u001b[0;32m      <a href='vscode-notebook-cell:/c%3A/Users/Inspiron%207568/Documents/noveno_semestre/SICAP/My_Python_Learning/3_Numpy/1_Arreglos_con_Numpy.ipynb#X26sZmlsZQ%3D%3D?line=1'>2</a>\u001b[0m \u001b[39m# pero esto se puede arreglar \u001b[39;00m\n\u001b[1;32m----> <a href='vscode-notebook-cell:/c%3A/Users/Inspiron%207568/Documents/noveno_semestre/SICAP/My_Python_Learning/3_Numpy/1_Arreglos_con_Numpy.ipynb#X26sZmlsZQ%3D%3D?line=3'>4</a>\u001b[0m array5 \u001b[39m=\u001b[39m array2 \u001b[39m*\u001b[39;49m array4\n\u001b[0;32m      <a href='vscode-notebook-cell:/c%3A/Users/Inspiron%207568/Documents/noveno_semestre/SICAP/My_Python_Learning/3_Numpy/1_Arreglos_con_Numpy.ipynb#X26sZmlsZQ%3D%3D?line=5'>6</a>\u001b[0m array5\n",
      "\u001b[1;31mValueError\u001b[0m: operands could not be broadcast together with shapes (2,2) (2,2,3) "
     ]
    }
   ],
   "source": [
    "# Tratamos de multiplicar los array y veremos un error pues necesitan tener las mismas dimenciones\n",
    "# pero esto se puede arreglar \n",
    "\n",
    "array5 = array2 * array4\n",
    "\n",
    "array5"
   ]
  },
  {
   "cell_type": "markdown",
   "metadata": {},
   "source": [
    "### Reshape"
   ]
  },
  {
   "cell_type": "code",
   "execution_count": 19,
   "metadata": {},
   "outputs": [
    {
     "data": {
      "text/plain": [
       "((2, 2), (2, 2, 3))"
      ]
     },
     "execution_count": 19,
     "metadata": {},
     "output_type": "execute_result"
    }
   ],
   "source": [
    "# Verificamos las dimenciones del array \n",
    "\n",
    "array2.shape, array4.shape"
   ]
  },
  {
   "cell_type": "code",
   "execution_count": 23,
   "metadata": {},
   "outputs": [
    {
     "data": {
      "text/plain": [
       "array([[[8],\n",
       "        [9]],\n",
       "\n",
       "       [[3],\n",
       "        [8]]])"
      ]
     },
     "execution_count": 23,
     "metadata": {},
     "output_type": "execute_result"
    }
   ],
   "source": [
    "# Redimencionamos el array 2, pues es el que tiene menos dimenciones\n",
    "\n",
    "array2_reshape = array2.reshape(2,2,1)\n",
    "array2_reshape"
   ]
  },
  {
   "cell_type": "code",
   "execution_count": 24,
   "metadata": {},
   "outputs": [
    {
     "data": {
      "text/plain": [
       "(2, 2, 1)"
      ]
     },
     "execution_count": 24,
     "metadata": {},
     "output_type": "execute_result"
    }
   ],
   "source": [
    "# Visualizamos sus nuevas dimenciones \n",
    "\n",
    "array2_reshape.shape"
   ]
  },
  {
   "cell_type": "code",
   "execution_count": 26,
   "metadata": {},
   "outputs": [
    {
     "data": {
      "text/plain": [
       "array([[[24, 48, 48],\n",
       "        [ 0, 81, 72]],\n",
       "\n",
       "       [[12, 21,  0],\n",
       "        [ 0, 56,  8]]])"
      ]
     },
     "execution_count": 26,
     "metadata": {},
     "output_type": "execute_result"
    }
   ],
   "source": [
    "# Volvamos a intentar la operación aahora con el nuevo arreglo \n",
    "\n",
    "array5 = array2_reshape * array4\n",
    "\n",
    "array5 "
   ]
  }
 ],
 "metadata": {
  "kernelspec": {
   "display_name": "base",
   "language": "python",
   "name": "python3"
  },
  "language_info": {
   "codemirror_mode": {
    "name": "ipython",
    "version": 3
   },
   "file_extension": ".py",
   "mimetype": "text/x-python",
   "name": "python",
   "nbconvert_exporter": "python",
   "pygments_lexer": "ipython3",
   "version": "3.9.12"
  }
 },
 "nbformat": 4,
 "nbformat_minor": 2
}
