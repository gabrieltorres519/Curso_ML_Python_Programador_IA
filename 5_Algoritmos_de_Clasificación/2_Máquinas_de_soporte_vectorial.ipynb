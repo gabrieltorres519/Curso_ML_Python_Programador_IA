{
 "cells": [
  {
   "cell_type": "markdown",
   "metadata": {},
   "source": [
    "# Máquinas de Soporte Vectorial SMV:\n",
    "### Hiperplanos"
   ]
  },
  {
   "cell_type": "markdown",
   "metadata": {},
   "source": [
    "Continuando con los modelos para resolver problemas de clasificación se utilizará un modelo que no está basado en ningún modelo probabilistico, sino en un modelado geométrico que se resuelve mediante un problema de optimización con restricciones, la idea es crear hiperplanos en el espacio para poder dividir las características según la etiqueta"
   ]
  },
  {
   "cell_type": "code",
   "execution_count": 1,
   "metadata": {},
   "outputs": [],
   "source": [
    "# Libería para crear máquinas de vectores con los datos\n",
    "from sklearn.svm import SVC\n",
    "# Se pueden usar los mismos datos que en el ejemplo de Bayes y calcular la matriz de confución y el accuracy_score"
   ]
  }
 ],
 "metadata": {
  "kernelspec": {
   "display_name": "base",
   "language": "python",
   "name": "python3"
  },
  "language_info": {
   "codemirror_mode": {
    "name": "ipython",
    "version": 3
   },
   "file_extension": ".py",
   "mimetype": "text/x-python",
   "name": "python",
   "nbconvert_exporter": "python",
   "pygments_lexer": "ipython3",
   "version": "3.9.12"
  }
 },
 "nbformat": 4,
 "nbformat_minor": 2
}
