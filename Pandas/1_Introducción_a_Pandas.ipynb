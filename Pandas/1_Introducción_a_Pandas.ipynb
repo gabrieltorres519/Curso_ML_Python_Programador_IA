{
 "cells": [
  {
   "cell_type": "markdown",
   "metadata": {},
   "source": [
    "# Librería Pandas"
   ]
  },
  {
   "cell_type": "code",
   "execution_count": 1,
   "metadata": {},
   "outputs": [],
   "source": [
    "import pandas as pd"
   ]
  },
  {
   "cell_type": "markdown",
   "metadata": {},
   "source": [
    "### Series\n",
    "\n",
    "* Tipo de dato que sustituye a la lista[] de python\n",
    "* Arreglo unidimencional donde cada valor tiene una etiqueta , los valores y etiquetas pueden ser de cualquier tipo"
   ]
  },
  {
   "cell_type": "code",
   "execution_count": 2,
   "metadata": {},
   "outputs": [],
   "source": [
    "# Creando una serie de python usando una lista\n",
    "\n",
    "navegadores = [\"Safari\",\"Chrome\",\"Firefox\",\"Edge\"]\n",
    "\n",
    "serie_navegadores = pd.Series(navegadores)"
   ]
  },
  {
   "cell_type": "code",
   "execution_count": 3,
   "metadata": {},
   "outputs": [
    {
     "data": {
      "text/plain": [
       "0     Safari\n",
       "1     Chrome\n",
       "2    Firefox\n",
       "3       Edge\n",
       "dtype: object"
      ]
     },
     "execution_count": 3,
     "metadata": {},
     "output_type": "execute_result"
    }
   ],
   "source": [
    "serie_navegadores"
   ]
  },
  {
   "cell_type": "code",
   "execution_count": 4,
   "metadata": {},
   "outputs": [],
   "source": [
    "# Crear una serie con etiquetas customisadas \n",
    "\n",
    "etiquetas = [\"Rojo\", \"Verde\", \"Azul\"]\n",
    "\n",
    "datos_colores = [[256,0,0],[0,256,0],[0,0,256]]\n",
    "\n",
    "serie2 = pd.Series(datos_colores, index= etiquetas)\n"
   ]
  },
  {
   "cell_type": "code",
   "execution_count": 5,
   "metadata": {},
   "outputs": [
    {
     "data": {
      "text/plain": [
       "Rojo     [256, 0, 0]\n",
       "Verde    [0, 256, 0]\n",
       "Azul     [0, 0, 256]\n",
       "dtype: object"
      ]
     },
     "execution_count": 5,
     "metadata": {},
     "output_type": "execute_result"
    }
   ],
   "source": [
    "serie2"
   ]
  }
 ],
 "metadata": {
  "kernelspec": {
   "display_name": "base",
   "language": "python",
   "name": "python3"
  },
  "language_info": {
   "codemirror_mode": {
    "name": "ipython",
    "version": 3
   },
   "file_extension": ".py",
   "mimetype": "text/x-python",
   "name": "python",
   "nbconvert_exporter": "python",
   "pygments_lexer": "ipython3",
   "version": "3.9.12"
  }
 },
 "nbformat": 4,
 "nbformat_minor": 2
}
